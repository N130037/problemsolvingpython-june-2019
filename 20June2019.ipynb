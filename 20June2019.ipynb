{
 "cells": [
  {
   "cell_type": "markdown",
   "metadata": {},
   "source": [
    "### Date:20 June 2019\n",
    "### Day Objectives:\n",
    "- Regular expressions\n",
    "     - Constructing Regular Expressions for various use cases\n",
    "     - Regular Expressions Module and related in Python\n",
    "     - Improving the Contacts application with name and phone number validation using regular expressions\n",
    "- File Handling\n",
    "     - Text Files\n",
    "     - Upgrading the Contacts Application to store contact information in a text file"
   ]
  },
  {
   "cell_type": "markdown",
   "metadata": {},
   "source": [
    "### Regular Expressions\n",
    "- Pattern Matching\n",
    "- Symbolic Notation of a pattern\n",
    "    - Pattern: Format which repeats \n",
    "    - Pattern(RE) - Represents The set of all values that matches the pattern\n",
    "- [0-9] -> Any digit\n",
    "- [a-z] -> Any lower case charaacter or alphabet\n",
    "- [2468] -> All single digit multiples of 2\n",
    "   [8642]\n",
    "   [6824]\n",
    "   [4826]\n",
    "- ^[0-9]{1}$ -> Only single digit numbers\n",
    "\n",
    "- ^[0-9]{2}$ -> Only two digit numbers\n",
    "\n",
    "- ^[0-9]{3}  ->  it highalted only 3 digit number but string continues\n",
    "\n",
    "- ^[1-9][0-9]*0$ -> Only 10 multiples\n",
    "\n",
    "- ^([1-9][0-9]*[0,5])|([5]) $ -> All multiples of 5\n",
    "\n",
    "- ^[0-9]{10}$  -> All 10 digit numbers\n",
    "\n",
    "- [w][o][r][d] (or) (word)  -> Searching for a 'word'\n",
    "\n",
    "- ^[6-9][0-9]{9}$ -> Validating phone numbers(India)(State)\n",
    "\n",
    "- ^[6-9][0-9]{9}$|^[0][6-9][0-9]{9}$|^[+][9][1][6-9][0-9]{9}$ -> Validating phone numbers with 0 and +91\n",
    "\n",
    "-   -> Email Validation (username@domain.extension)\n",
    "         - username\n",
    "              - Length of username: [6,15]\n",
    "              - No special characters other than_.\n",
    "              - Should not begin and end with_.\n",
    "              - Character set: all digits and alphabet \n",
    "         - domain\n",
    "              - Length of domain: [3:18]\n",
    "              - No special characters\n",
    "              - Character set: All digits and lower case alphabet\n",
    "         - extension\n",
    "              - Length of extension: [2,4]\n",
    "              - No special characters\n",
    "              - Character set:lower case alphabet\n",
    "- ^[a]...[z] -> Any string of length 5 that start with 'a' and end with 'z'\n",
    "- ^[a].*[z] -> Any string of any length that start with 'a' and end with 'z'"
   ]
  },
  {
   "cell_type": "code",
   "execution_count": null,
   "metadata": {},
   "outputs": [],
   "source": []
  },
  {
   "cell_type": "code",
   "execution_count": 69,
   "metadata": {},
   "outputs": [
    {
     "data": {
      "text/plain": [
       "True"
      ]
     },
     "execution_count": 69,
     "metadata": {},
     "output_type": "execute_result"
    }
   ],
   "source": [
    "# Function to validate a phone number\n",
    "import re\n",
    "\n",
    "def phonenumbervalidator(number):\n",
    "    pattern='^[6-9][0-9]{9}$|^[0][6-9][0-9]{9}$|^[+][9][1][6-9][0-9]{9}$'\n",
    "    if re.match(pattern,str(number)):\n",
    "        return True\n",
    "    return False\n",
    "\n",
    "phonenumbervalidator(9581779799)\n",
    "\n"
   ]
  },
  {
   "cell_type": "code",
   "execution_count": 1,
   "metadata": {},
   "outputs": [
    {
     "data": {
      "text/plain": [
       "True"
      ]
     },
     "execution_count": 1,
     "metadata": {},
     "output_type": "execute_result"
    }
   ],
   "source": [
    "#Function to validate a email\n",
    "import re\n",
    "def emailvalidator(email):\n",
    "    pattern='^[0-9a-z][0-9a-z_.]{4,13}[0-9a-z][@][0-9a-z]{3,18}[.][a-z]{2,4}|[.][a-z]{2,4}$'\n",
    "    if re.match(pattern,email):\n",
    "        return True\n",
    "    return False\n",
    "emailvalidator(\"mangatayaru@gmail.com\")"
   ]
  },
  {
   "cell_type": "code",
   "execution_count": null,
   "metadata": {
    "scrolled": true
   },
   "outputs": [],
   "source": [
    "contacts={\"name1\":[8184886284,\"mangatayaru@gmail.com\"],\"name2\":[7995326757,\"deepu@gmail.com\"]}\n",
    "\n",
    "def addContact(name,phone,email):\n",
    "    #verify that the contact doesnot already exist\n",
    "    if name in contacts:\n",
    "        print(\"contact %s already exist\")\n",
    "    else:\n",
    "        if not phonenumbervalidator(phone):\n",
    "            print(\"Phone number is invalid\")\n",
    "        if not emailvalidator(email):\n",
    "            print(\"Email is Invalid\")\n",
    "            return\n",
    "        newcontact=[]\n",
    "        newcontact.append(phone)\n",
    "        newcontact.append(email)\n",
    "        contacts[name]=newcontact\n",
    "        print(name,\"added successfully\")\n",
    "    return\n",
    "        \n",
    "addContact(\"name3\",6301359483,\"surya98@gmail.com\")"
   ]
  },
  {
   "cell_type": "code",
   "execution_count": 10,
   "metadata": {
    "scrolled": false
   },
   "outputs": [
    {
     "data": {
      "text/plain": [
       "{'name1': [8184886284, 'mangatayaru@gmail.com'],\n",
       " 'name2': [7995326757, 'deepu@gmail.com']}"
      ]
     },
     "execution_count": 10,
     "metadata": {},
     "output_type": "execute_result"
    }
   ],
   "source": [
    "contacts"
   ]
  },
  {
   "cell_type": "code",
   "execution_count": 11,
   "metadata": {
    "scrolled": false
   },
   "outputs": [
    {
     "name": "stdout",
     "output_type": "stream",
     "text": [
      "name1\n",
      "Phone: 8184886284\n",
      "email mangatayaru@gmail.com\n"
     ]
    }
   ],
   "source": [
    "def searchcontacts(name):\n",
    "    if name in contacts:\n",
    "        print(name)\n",
    "        print(\"Phone:\",contacts[name][0])\n",
    "        print(\"email\",contacts[name][1])\n",
    "    else:\n",
    "        print(\"%s does not exist\"%name)\n",
    "    return\n",
    "searchcontacts(\"name1\")"
   ]
  },
  {
   "cell_type": "code",
   "execution_count": 12,
   "metadata": {
    "scrolled": true
   },
   "outputs": [
    {
     "name": "stdout",
     "output_type": "stream",
     "text": [
      "2 added successfully\n"
     ]
    }
   ],
   "source": [
    "def importcontacts(newcontacts):\n",
    "    contacts.update(newcontacts)\n",
    "    print(len(newcontacts.keys()),\"added successfully\")\n",
    "    return\n",
    "newcontacts={\"name4\":[5787999898,'name@doamin.ext'],\"name5\":[6789123456,'name1@domain.ext']}\n",
    "\n",
    "importcontacts(newcontacts)\n",
    "    "
   ]
  },
  {
   "cell_type": "code",
   "execution_count": 13,
   "metadata": {},
   "outputs": [
    {
     "data": {
      "text/plain": [
       "{'name1': [8184886284, 'mangatayaru@gmail.com'],\n",
       " 'name2': [7995326757, 'deepu@gmail.com'],\n",
       " 'name4': [5787999898, 'name@doamin.ext'],\n",
       " 'name5': [6789123456, 'name1@domain.ext']}"
      ]
     },
     "execution_count": 13,
     "metadata": {},
     "output_type": "execute_result"
    }
   ],
   "source": [
    "contacts"
   ]
  },
  {
   "cell_type": "code",
   "execution_count": 14,
   "metadata": {},
   "outputs": [
    {
     "name": "stdout",
     "output_type": "stream",
     "text": [
      "name1 \n",
      " Phone: 8184886284 \n",
      " Email: mangatayaru@gmail.com\n",
      "name2 \n",
      " Phone: 7995326757 \n",
      " Email: deepu@gmail.com\n",
      "name4 \n",
      " Phone: 5787999898 \n",
      " Email: name@doamin.ext\n",
      "name5 \n",
      " Phone: 6789123456 \n",
      " Email: name1@domain.ext\n"
     ]
    }
   ],
   "source": [
    "# Function to list all contacts\n",
    "def listallcontacts():\n",
    "    for contact, info in contacts.items():\n",
    "        print(contact,\"\\n\",\"Phone:\",info[0],\"\\n\",\"Email:\",info[1])\n",
    "    return\n",
    "listallcontacts()"
   ]
  },
  {
   "cell_type": "code",
   "execution_count": null,
   "metadata": {},
   "outputs": [],
   "source": [
    "# Function to edit contacts"
   ]
  },
  {
   "cell_type": "code",
   "execution_count": null,
   "metadata": {},
   "outputs": [],
   "source": []
  },
  {
   "cell_type": "markdown",
   "metadata": {},
   "source": [
    "### File Handling in Python\n",
    "\n",
    "\n",
    "File - Document containing information residing on\n",
    "Types - Text,PDF,CSV etc\n",
    "\n",
    "File I/O - Chanelling I/O data to files\n",
    "Default I/O channels - keyboard/Screen\n",
    "\n",
    "Change I/O channel to files for Reading and writing \n",
    "\n",
    "Read a file - Input from file\n",
    "Write to a file - Output to a file\n",
    "\n",
    "Read/Write a file - open(filename,mode)"
   ]
  },
  {
   "cell_type": "code",
   "execution_count": 39,
   "metadata": {},
   "outputs": [
    {
     "name": "stdout",
     "output_type": "stream",
     "text": [
      "Line1\n",
      "Line2\n",
      "Line3Line1\n",
      "Line2\n",
      "Line3\n"
     ]
    }
   ],
   "source": [
    "def readFile(filename):\n",
    "    f=open(filename,'r')\n",
    "    filedata=f.read()\n",
    "    f.close()\n",
    "    return filedata\n",
    "filename='DataFiles/data.txt'\n",
    "filedata=readFile(filename)\n",
    "#for line in filedata.split('\\n'):\n",
    "    #print(line)\n",
    "    \n",
    "    \n",
    "def printFileDataLines(filename):\n",
    "    with open(filename,'r') as f:\n",
    "        for line in f:\n",
    "            print(line,end='')\n",
    "    return\n",
    "printFileDataLines(filename)\n",
    "print(readFile(filename))"
   ]
  },
  {
   "cell_type": "code",
   "execution_count": 58,
   "metadata": {},
   "outputs": [],
   "source": [
    "# Function to write data into a file\n",
    "\n",
    "def writeIntoFile(filename,filedata):\n",
    "    with open(filename,'w') as f:\n",
    "        f.write(filedata)\n",
    "    return\n",
    "filename='DataFiles/data.txt'\n",
    "\n",
    "writeIntoFile(filename,\"New data\\n\")\n",
    "    "
   ]
  },
  {
   "cell_type": "code",
   "execution_count": 59,
   "metadata": {},
   "outputs": [],
   "source": [
    "# Function to append data to a file\n",
    "def appendDatatoFile(filename,filedata):\n",
    "    with open(filename,'a') as f:\n",
    "        f.writelines(filedata)\n",
    "    return\n",
    "filedata=[\"Line2\\n\",\"Line3\"]\n",
    "appendDatatoFile(filename,filedata)\n",
    "    "
   ]
  },
  {
   "cell_type": "code",
   "execution_count": null,
   "metadata": {},
   "outputs": [],
   "source": []
  },
  {
   "cell_type": "markdown",
   "metadata": {},
   "source": [
    "### HackerEarth Probblems"
   ]
  },
  {
   "cell_type": "code",
   "execution_count": 60,
   "metadata": {},
   "outputs": [
    {
     "name": "stdout",
     "output_type": "stream",
     "text": [
      "4\n",
      "*   *\n",
      "*   *\n",
      "*****\n",
      "*   *\n",
      "*   *\n",
      "*****\n",
      "*   *\n",
      "*   *\n",
      "*****\n",
      "*   *\n",
      "*   *\n",
      "*****\n",
      "*   *\n",
      "*   *\n"
     ]
    }
   ],
   "source": [
    "# Ladderophilia\n",
    "\n",
    "def ladder(N):\n",
    "    for i in range(N):\n",
    "        for j in range(2):\n",
    "            print(\"*\",end=\"   \")\n",
    "            print(\"*\")\n",
    "        print(\"*****\")\n",
    "    for j in range(2):\n",
    "        print(\"*\",end=\"   \")\n",
    "        print(\"*\")\n",
    "N=int(input())\n",
    "ladder(N)"
   ]
  },
  {
   "cell_type": "code",
   "execution_count": 62,
   "metadata": {},
   "outputs": [
    {
     "name": "stdout",
     "output_type": "stream",
     "text": [
      "24B226-26\n",
      "valid\n"
     ]
    }
   ],
   "source": [
    "# Ali and Helping innocent people\n",
    "\n",
    "def ali(s):\n",
    "    if(len(s)==9 and (int(s[0])+int(s[1]))%2==0 and (int(s[3])+int(s[4]))%2==0 and (int(s[4])+int(s[5]))%2==0 and (int(s[7])+int(s[8]))%2==0  and s[2]!='A'and s[2]!='I' and s[2]!='E'and s[2]!='O'and s[2]!='U' and s[2]!='Y'):\n",
    "        print(\"valid\")\n",
    "    else:\n",
    "        print(\"invalid\")\n",
    "    return\n",
    "s=input()\n",
    "ali(s)"
   ]
  },
  {
   "cell_type": "code",
   "execution_count": null,
   "metadata": {},
   "outputs": [],
   "source": []
  }
 ],
 "metadata": {
  "kernelspec": {
   "display_name": "Python 3",
   "language": "python",
   "name": "python3"
  },
  "language_info": {
   "codemirror_mode": {
    "name": "ipython",
    "version": 3
   },
   "file_extension": ".py",
   "mimetype": "text/x-python",
   "name": "python",
   "nbconvert_exporter": "python",
   "pygments_lexer": "ipython3",
   "version": "3.7.3"
  }
 },
 "nbformat": 4,
 "nbformat_minor": 2
}
