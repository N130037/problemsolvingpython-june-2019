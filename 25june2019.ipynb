{
 "cells": [
  {
   "cell_type": "markdown",
   "metadata": {},
   "source": [
    "Assignment:\n",
    "    \n",
    "    \n",
    "    \n",
    "    \n"
   ]
  },
  {
   "cell_type": "code",
   "execution_count": 19,
   "metadata": {},
   "outputs": [
    {
     "name": "stdout",
     "output_type": "stream",
     "text": [
      "234\n"
     ]
    },
    {
     "data": {
      "text/plain": [
       "9"
      ]
     },
     "execution_count": 19,
     "metadata": {},
     "output_type": "execute_result"
    }
   ],
   "source": [
    "#Sum of digits\n",
    "def sumofdigits(n):\n",
    "    sum=0\n",
    "    rem=0\n",
    "    for i in range(0,len(s)):\n",
    "        rem=n%10\n",
    "        sum=sum+rem\n",
    "        n=n//10\n",
    "    return sum\n",
    "s=input()\n",
    "n=int(s)\n",
    "sumofdigits(n)\n",
    "            \n",
    "    \n",
    "    \n",
    "    "
   ]
  },
  {
   "cell_type": "markdown",
   "metadata": {},
   "source": [
    "### Digit Frequency\n"
   ]
  },
  {
   "cell_type": "markdown",
   "metadata": {},
   "source": [
    "Given a string, s , consisting of alphabets and digits, find the frequency of each digit in the given string.\n",
    "\n",
    "Input Format\n",
    "\n",
    "The first line contains a string, num, which is the given number.\n",
    "\n",
    "Constraints\n",
    "\n",
    "1<=len(num)<=1000\n",
    "\n",
    "All the elements of num are made of english alphabets and digits.\n",
    "\n",
    "Output Format\n",
    "\n",
    "Print ten space-separated integers in a single line denoting the frequency of each digit from 0 to 9"
   ]
  },
  {
   "cell_type": "code",
   "execution_count": 6,
   "metadata": {},
   "outputs": [
    {
     "name": "stdout",
     "output_type": "stream",
     "text": [
      "0 4 1 1 1 1 1 0 0 0 "
     ]
    }
   ],
   "source": [
    "#s = 123abc456def\n",
    "#0 1 1 1 1 1 1 0 0 0 ->Frequency of sorted numbers\n",
    "#count(1) -> 1 4 1 1 1 1 4 4 4 \n",
    "\n",
    "#s= c\n",
    "#0 0 0 0 0 0 0 0 0 \n",
    "\n",
    "\n",
    "#s = 1234567890\n",
    "#1 1 1 1 1 1 1 1 1 1 \n",
    "\n",
    "            \n",
    "def uniquedata(allnumbers):\n",
    "    unique = []\n",
    "    for n in allnumbers:\n",
    "        if n not in unique:\n",
    "            unique.append(n)\n",
    "    return unique\n",
    "                 \n",
    "    \n",
    "def digitfrequency1(s):\n",
    "    allnumbers = []\n",
    "    for i in s:\n",
    "        if i.isdigit():\n",
    "            allnumbers.append(i)\n",
    "    unique = uniquedata(allnumbers)\n",
    "    for i in range(0, 10):\n",
    "        if str(i) not in unique:\n",
    "            print(0, end=' ')\n",
    "        else:\n",
    "            count = allnumbers.count(str(i))\n",
    "            print(count, end=' ')\n",
    "            \n",
    "            \n",
    "def uniquedata(allnumbers):\n",
    "    unique = []\n",
    "    for n in allnumbers:\n",
    "        if n not in unique:\n",
    "            unique.append(n)\n",
    "    return unique\n",
    "                 \n",
    "digitfrequency1('213abc456def111')\n",
    "     \n",
    "    \n",
    "\n",
    "    \n"
   ]
  },
  {
   "cell_type": "code",
   "execution_count": 14,
   "metadata": {},
   "outputs": [
    {
     "name": "stdout",
     "output_type": "stream",
     "text": [
      "0 4 1 1 1 1 1 0 0 0 "
     ]
    }
   ],
   "source": [
    "def digitFrequency2(s):\n",
    "    for i in range(0,10):\n",
    "        count = s.count(str(i))\n",
    "        print(count, end=' ')\n",
    "    return\n",
    "digitFrequency2('213abc456def111')\n",
    "        \n",
    "\n",
    "                \n",
    "\n",
    "    "
   ]
  },
  {
   "cell_type": "markdown",
   "metadata": {},
   "source": [
    "### Find the Replace Applicationis \n",
    "- Check if a word \n",
    "- Replace all occurences of a word in a file\n",
    "  - replace word(filepath, word)\n",
    "\n",
    "\n",
    "### Marks Analysis Report\n",
    "- Generate Marks\n",
    "   - generateMarks(n, lb, ub)\n",
    "- Generate a report of the following\n",
    "   - Class Average -classaverage(filepath)\n",
    "   - % passed - pass percentage(filepath)\n",
    "   - % failed - failparcentage(filepath)\n",
    "   - % Distinction - distinctionPercentage(filepath)\n",
    "   - Frequency of highest mark - frequencyhighest(filepath)\n",
    "   - Frequency of lowest mark  - frequencylowest(filepath)\n",
    "   - Generate report(filepath):\n",
    "   \n",
    "   \n",
    "### Contacts Application\n",
    " - AddContact(name, phone, email)\n",
    " - SearchContact(name)\n",
    " - ListContacts()\n",
    " - EditContact(name, newphone, newemail)\n",
    " - DeleteContact(name)\n",
    " - ContactsApp()\n",
    "   "
   ]
  },
  {
   "cell_type": "code",
   "execution_count": 22,
   "metadata": {},
   "outputs": [
    {
     "name": "stdout",
     "output_type": "stream",
     "text": [
      "30 marks stored/generated in file Sucessfully..!!\n"
     ]
    }
   ],
   "source": [
    "#Generate of marks:\n",
    "from random import randint \n",
    "def generatemarks(n,lb,ub):\n",
    "    filepath='DataFiles\\marks.txt'\n",
    "    with open(filepath,'w') as f:\n",
    "        for i in range(0,n):\n",
    "            r=randint(lb,ub)\n",
    "            f.write(str(r)+'\\n')\n",
    "    print(n,\"marks stored/generated in file Sucessfully..!!\")\n",
    "generatemarks(30,1,100)"
   ]
  },
  {
   "cell_type": "code",
   "execution_count": 14,
   "metadata": {},
   "outputs": [
    {
     "name": "stdout",
     "output_type": "stream",
     "text": [
      "55.03333333333333\n"
     ]
    }
   ],
   "source": [
    "#Class Average - class Average(filepath)\n",
    "#sum of marks/student count\n",
    "\n",
    "def classAverage(filepath):\n",
    "    sum=0\n",
    "    count=0\n",
    "    with open(filepath,'r') as f:\n",
    "        for i in f:\n",
    "            sum=sum+int(i)\n",
    "            count=count+1\n",
    "    print(sum/count)\n",
    "    \n",
    "classAverage('DataFiles/marks.txt')\n"
   ]
  },
  {
   "cell_type": "code",
   "execution_count": 15,
   "metadata": {},
   "outputs": [
    {
     "name": "stdout",
     "output_type": "stream",
     "text": [
      "76.66666666666667\n"
     ]
    }
   ],
   "source": [
    "#%failed Students percentage\n",
    "#((Failed count/total student count)*100)\n",
    "def passpercentage(filepath):\n",
    "    count=0\n",
    "    mc=0\n",
    "    with open(filepath,'r') as f:\n",
    "        for i in f:\n",
    "            mc=mc+1\n",
    "            if(int(i)>=35):\n",
    "                count=count+1\n",
    "        print((count/mc)*100)\n",
    "        \n",
    "passpercentage('DataFiles/marks.txt')\n",
    "                \n",
    "            "
   ]
  },
  {
   "cell_type": "code",
   "execution_count": 16,
   "metadata": {},
   "outputs": [
    {
     "name": "stdout",
     "output_type": "stream",
     "text": [
      "23.333333333333332\n"
     ]
    }
   ],
   "source": [
    "#Failed percentage\n",
    "def failpercentage(filepath):\n",
    "    count=0\n",
    "    mc=0\n",
    "    with open(filepath,'r') as f:\n",
    "        for i in f:\n",
    "            mc=mc+1\n",
    "            if(int(i)<=35):\n",
    "                count=count+1\n",
    "        print((count/mc)*100)\n",
    "        \n",
    "failpercentage('DataFiles/marks.txt')\n",
    "#def failedpercentage(filepath):\n",
    " #   fcount=100-passpercentage(filepath)\n",
    " #   print(fcount)\n",
    "#failedpercentage('DataFiles/marks.txt')"
   ]
  },
  {
   "cell_type": "code",
   "execution_count": 17,
   "metadata": {},
   "outputs": [
    {
     "data": {
      "text/plain": [
       "23.333333333333332"
      ]
     },
     "execution_count": 17,
     "metadata": {},
     "output_type": "execute_result"
    }
   ],
   "source": [
    "#Distinction \n",
    "#total Distinction count/total students count*100\n",
    "def distinction(filepath):\n",
    "    count=0\n",
    "    mc=0\n",
    "    with open(filepath,'r') as f:\n",
    "        for i in f:\n",
    "            mc+=1\n",
    "            if(int(i)>=75):\n",
    "                count+=1\n",
    "    return ((count/mc)*100)\n",
    "    \n",
    "distinction('DataFiles/marks.txt')"
   ]
  },
  {
   "cell_type": "code",
   "execution_count": 19,
   "metadata": {},
   "outputs": [
    {
     "name": "stdout",
     "output_type": "stream",
     "text": [
      "99\n",
      "1\n"
     ]
    }
   ],
   "source": [
    "#Frequency of highest mark\n",
    "def frequencyhighest(filepath):\n",
    "    with open(filepath,'r') as f:\n",
    "        sp=f.read().split()\n",
    "        sp=list(map(int,sp))\n",
    "        print(max(sp))\n",
    "        print(sp.count(max(sp)))\n",
    "        \n",
    "frequencyhighest('DataFiles/marks.txt')"
   ]
  },
  {
   "cell_type": "code",
   "execution_count": 20,
   "metadata": {},
   "outputs": [
    {
     "name": "stdout",
     "output_type": "stream",
     "text": [
      "3\n",
      "1\n"
     ]
    }
   ],
   "source": [
    "#Frequency of lowest mark\n",
    "def frequencylowest(filepath):\n",
    "    with open(filepath,'r') as f:\n",
    "        sp=f.read().split()\n",
    "        sp=list(map(int,sp))\n",
    "        print(min(sp))\n",
    "        print(sp.count(min(sp)))\n",
    "        \n",
    "frequencylowest('DataFiles/marks.txt')"
   ]
  },
  {
   "cell_type": "code",
   "execution_count": 21,
   "metadata": {},
   "outputs": [
    {
     "name": "stdout",
     "output_type": "stream",
     "text": [
      "choose option:\n",
      "1).generate marks\n",
      "2).classaverage\n",
      "3).passedperecntage\n",
      "4).failedpercentage\n",
      "5).distinctionpercentage\n",
      "6).frequency of highest\n",
      "7).frequency of lowest\n",
      "1\n",
      "30\n",
      "30 marks stored/generated in file Sucessfully..!!\n",
      "choose option:\n",
      "1).generate marks\n",
      "2).classaverage\n",
      "3).passedperecntage\n",
      "4).failedpercentage\n",
      "5).distinctionpercentage\n",
      "6).frequency of highest\n",
      "7).frequency of lowest\n",
      "2\n",
      "50.86666666666667\n",
      "choose option:\n",
      "1).generate marks\n",
      "2).classaverage\n",
      "3).passedperecntage\n",
      "4).failedpercentage\n",
      "5).distinctionpercentage\n",
      "6).frequency of highest\n",
      "7).frequency of lowest\n",
      "3\n",
      "70.0\n",
      "choose option:\n",
      "1).generate marks\n",
      "2).classaverage\n",
      "3).passedperecntage\n",
      "4).failedpercentage\n",
      "5).distinctionpercentage\n",
      "6).frequency of highest\n",
      "7).frequency of lowest\n",
      "4\n",
      "30.0\n",
      "choose option:\n",
      "1).generate marks\n",
      "2).classaverage\n",
      "3).passedperecntage\n",
      "4).failedpercentage\n",
      "5).distinctionpercentage\n",
      "6).frequency of highest\n",
      "7).frequency of lowest\n",
      "5\n",
      "choose option:\n",
      "1).generate marks\n",
      "2).classaverage\n",
      "3).passedperecntage\n",
      "4).failedpercentage\n",
      "5).distinctionpercentage\n",
      "6).frequency of highest\n",
      "7).frequency of lowest\n",
      "6\n",
      "100\n",
      "1\n",
      "choose option:\n",
      "1).generate marks\n",
      "2).classaverage\n",
      "3).passedperecntage\n",
      "4).failedpercentage\n",
      "5).distinctionpercentage\n",
      "6).frequency of highest\n",
      "7).frequency of lowest\n",
      "7\n",
      "1\n",
      "1\n",
      "choose option:\n",
      "1).generate marks\n",
      "2).classaverage\n",
      "3).passedperecntage\n",
      "4).failedpercentage\n",
      "5).distinctionpercentage\n",
      "6).frequency of highest\n",
      "7).frequency of lowest\n",
      "8\n"
     ]
    }
   ],
   "source": [
    "def marksanalysis(filepath):\n",
    "    while True:\n",
    "        n=int(input(\"choose option:\\n1).generate marks\\n2).classaverage\\n3).passedperecntage\\n4).failedpercentage\\n5).distinctionpercentage\\n6).frequency of highest\\n7).frequency of lowest\\n\"))\n",
    "        if(n==1):\n",
    "            st=int(input())\n",
    "            generatemarks(st,1,100)\n",
    "        elif(n==2):\n",
    "            classAverage(filepath)\n",
    "        elif(n==3):\n",
    "            passpercentage(filepath)\n",
    "        elif(n==4):\n",
    "            failpercentage(filepath)\n",
    "        elif(n==5):\n",
    "            distinction(filepath)\n",
    "        elif(n==6):\n",
    "            frequencyhighest(filepath)\n",
    "        elif(n==7):\n",
    "            frequencylowest(filepath)\n",
    "        else:\n",
    "            break\n",
    "marksanalysis('DataFiles/marks.txt')"
   ]
  },
  {
   "cell_type": "code",
   "execution_count": 15,
   "metadata": {},
   "outputs": [
    {
     "data": {
      "text/plain": [
       "0"
      ]
     },
     "execution_count": 15,
     "metadata": {},
     "output_type": "execute_result"
    }
   ],
   "source": [
    "# Function to check if two strings are Anagrams\n",
    "# abc cba -> True\n",
    "# {a:1, b:1, c:1} {c:1, a:1, b:1} \n",
    "# aabbcc ccbbaaa -> False\n",
    "# aabbcc aaabbcc \n",
    "# abc\n",
    "# {a:2, b:2, c:2} {a:3, b:2, c:2}\n",
    "\n",
    "def checkAnagrams(s1, s2):\n",
    "    if len(s1) != len(s2):\n",
    "        return False\n",
    "    if sorted(s1) == sorted(s2):\n",
    "        return True\n",
    "    return False\n",
    "\n",
    "\n",
    "def charDeletionsAnagrams(s1, s2):\n",
    "    # to collect all uncommon characters - characters occurring in only one string\n",
    "    uncommon = []\n",
    "    for i in s1:\n",
    "        if i not in s2:\n",
    "            uncommon.append(i)\n",
    "    for i in s2:\n",
    "        if i not in s1:\n",
    "            uncommon.append(i)\n",
    "    count = len(uncommon)\n",
    "    # freqs1 -> Frequency of common characters in s1\n",
    "    freqs1 = {}\n",
    "    freqs2 = {}\n",
    "    # Unique characters in s1 and s2\n",
    "    uniqs1 = []\n",
    "    uniqs2 = []\n",
    "    # Frequency of common unique characters in s1\n",
    "    for i in s1:\n",
    "        if i not in uncommon and i not in uniqs1:\n",
    "            freqs1[i] = s1.count(i)\n",
    "            uniqs1.append(i)\n",
    "    # Frequency of common unique characters in s2\n",
    "    for i in s2:\n",
    "        if i not in uncommon and i not in uniqs2:\n",
    "            freqs2[i] = s2.count(i)\n",
    "            uniqs2.append(i)\n",
    "    # Difference in frequencies for common characters\n",
    "    for key in freqs1.keys():\n",
    "        count += abs(freqs1[key] - freqs2[key])\n",
    "    return count\n",
    "\n",
    "charDeletionsAnagrams('abc', 'bca')\n"
   ]
  },
  {
   "cell_type": "code",
   "execution_count": 16,
   "metadata": {},
   "outputs": [
    {
     "data": {
      "text/plain": [
       "16222"
      ]
     },
     "execution_count": 16,
     "metadata": {},
     "output_type": "execute_result"
    }
   ],
   "source": [
    "def averages(lb,ub):\n",
    "    sum=0\n",
    "    for i in range(lb,ub+1):\n",
    "        sum=sum+i\n",
    "        count=ub-lb+1\n",
    "    return sum//count\n",
    "averages(100,32345)"
   ]
  }
 ],
 "metadata": {
  "kernelspec": {
   "display_name": "Python 3",
   "language": "python",
   "name": "python3"
  },
  "language_info": {
   "codemirror_mode": {
    "name": "ipython",
    "version": 3
   },
   "file_extension": ".py",
   "mimetype": "text/x-python",
   "name": "python",
   "nbconvert_exporter": "python",
   "pygments_lexer": "ipython3",
   "version": "3.7.3"
  }
 },
 "nbformat": 4,
 "nbformat_minor": 2
}
