{
 "cells": [
  {
   "cell_type": "code",
   "execution_count": 4,
   "metadata": {},
   "outputs": [
    {
     "name": "stdout",
     "output_type": "stream",
     "text": [
      "baby123\n",
      "3\n",
      "4\n"
     ]
    }
   ],
   "source": [
    "def countofdigits(s):\n",
    "    charcount=0\n",
    "    digitcount=0\n",
    "    for i in range(0,len(s)):\n",
    "        if((s[i]>='a' and s[i]<='z') or (s[i]>='A' and s[i]<='z')):\n",
    "            charcount=charcount+1\n",
    "        elif(s[i]>='0' and s[i]<='9'):\n",
    "            digitcount=digitcount+1\n",
    "    print(digitcount)\n",
    "    print(charcount)\n",
    "    \n",
    "s=input()\n",
    "countofdigits(s)\n",
    "\n",
    "    \n",
    "    \n",
    "    \n",
    "    \n",
    "    \n",
    "    \n",
    "    \n",
    "    \n",
    "    "
   ]
  },
  {
   "cell_type": "code",
   "execution_count": 15,
   "metadata": {},
   "outputs": [
    {
     "name": "stdout",
     "output_type": "stream",
     "text": [
      "2\n",
      "6\n",
      "YES\n",
      "5\n",
      "NO\n"
     ]
    }
   ],
   "source": [
    "def factors(n):\n",
    "    s=0\n",
    "    for i in range(1,n):\n",
    "        if(n%i==0):\n",
    "            s=s+i\n",
    "   # print()\n",
    "   # print(\"sum = \",s)\n",
    "    if(n==s):\n",
    "        return \"YES\"\n",
    "    else:\n",
    "        return \"NO\"     \n",
    "testcases=int(input())\n",
    "for i in range(testcases):\n",
    "    n=int(input())\n",
    "    print(factors(n))\n",
    "\n",
    "\n",
    "    "
   ]
  },
  {
   "cell_type": "code",
   "execution_count": 1,
   "metadata": {},
   "outputs": [
    {
     "name": "stdout",
     "output_type": "stream",
     "text": [
      "2\n",
      "5\n",
      "3\n",
      "4\n",
      "3\n"
     ]
    }
   ],
   "source": [
    "def highrem(s): #5\n",
    "    r=0\n",
    "    for i in range(1,s):\n",
    "        rem=s%i   #5%1=0,5%2=1,5%3=2\n",
    "        if rem>r: 1>0,2>1,1!>2\n",
    "            r=rem #r=1 r=2\n",
    "            j=i   #j=2 j=3\n",
    "    return j\n",
    "    \n",
    "    \n",
    "t=int(input())\n",
    "for i in range(t):\n",
    "    s=int(input())\n",
    "    print(highrem(s))\n",
    "    "
   ]
  },
  {
   "cell_type": "code",
   "execution_count": 13,
   "metadata": {},
   "outputs": [
    {
     "name": "stdout",
     "output_type": "stream",
     "text": [
      "5\n",
      "prime\n"
     ]
    }
   ],
   "source": [
    "#PRIME\n",
    "def primenumber(n):\n",
    "    count=0\n",
    "    for i in range(1,n+1):\n",
    "        if (n%i==0):\n",
    "            count=count+1\n",
    "    if(count==2):\n",
    "        print(\"prime\")\n",
    "    else:\n",
    "        print(\"not prime\")\n",
    "n=int(input())           \n",
    "primenumber(n)\n",
    "           \n",
    "        \n",
    "        "
   ]
  },
  {
   "cell_type": "markdown",
   "metadata": {},
   "source": [
    "#Problem : Special number\n",
    "#A special number which has at least p district prime factors\n",
    "#Write a program to determine whether a number N is a special \n",
    "#### **Input format**\n",
    "#First line\n",
    "#Second line: T (Nmuber of test cases)\n",
    "#Next T lines: N\n",
    "\n",
    "#### **Output format**\n",
    "For each test case,Print YES or NO depending on the result.\n"
   ]
  },
  {
   "cell_type": "code",
   "execution_count": 64,
   "metadata": {},
   "outputs": [
    {
     "name": "stdout",
     "output_type": "stream",
     "text": [
      "2 \n",
      "3\n",
      "3\n",
      "NO\n",
      "6\n",
      "NO\n",
      "7\n",
      "NO\n"
     ]
    }
   ],
   "source": [
    "#Function to check if number is prime\n",
    "def prime(n):\n",
    "    flag = 1\n",
    "    if n == 2:\n",
    "        return True\n",
    "    for i in range(2, n//2 + 1):\n",
    "        if n % i == 0:\n",
    "            flag = 0\n",
    "            return False\n",
    "        if flag == 1:\n",
    "            return True\n",
    "        \n",
    "prime(5)\n",
    "\n",
    "#Function to check number of prime Factors for a given number. \n",
    "def numberprimefactors(n):\n",
    "    if prime(n):\n",
    "         return 1\n",
    "    count = 0\n",
    "    for i in range(2, n // 2 + 1):\n",
    "        if prime(i) and n % i == 0:\n",
    "            count = count + 1\n",
    "    return count \n",
    "\n",
    "numberprimefactors(30)\n",
    "\n",
    "#Function to check number of prime Factors for a given number.\n",
    "def specialnumber(n,p):\n",
    "    if numberprimefactors(n) >= p:\n",
    "        return True \n",
    "    return False\n",
    "\n",
    "specialnumber(9,2)\n",
    "        \n",
    "def solution2():\n",
    "    p = int(input())\n",
    "    t = int(input())\n",
    "    for i in range(0, t):\n",
    "        n = int(input())\n",
    "        if specialnumber(n, p):\n",
    "            print(\"YES\")\n",
    "        else:\n",
    "            print(\"NO\")\n",
    "            \n",
    "#specialnumber(30, 2)\n",
    "solution2()\n",
    "\n",
    "                \n",
    "\n",
    "        \n",
    "        \n",
    "    "
   ]
  },
  {
   "cell_type": "code",
   "execution_count": 65,
   "metadata": {},
   "outputs": [
    {
     "data": {
      "text/plain": [
       "True"
      ]
     },
     "execution_count": 65,
     "metadata": {},
     "output_type": "execute_result"
    }
   ],
   "source": [
    "def prime(n):\n",
    "    count = 0\n",
    "    for i in range(1,n+1):\n",
    "        if n % i == 0:\n",
    "            count = count + 1\n",
    "    if count == 2:\n",
    "        return True\n",
    "    else:\n",
    "        return False\n",
    "prime(5)\n",
    "            "
   ]
  },
  {
   "cell_type": "code",
   "execution_count": null,
   "metadata": {},
   "outputs": [],
   "source": []
  }
 ],
 "metadata": {
  "kernelspec": {
   "display_name": "Python 3",
   "language": "python",
   "name": "python3"
  },
  "language_info": {
   "codemirror_mode": {
    "name": "ipython",
    "version": 3
   },
   "file_extension": ".py",
   "mimetype": "text/x-python",
   "name": "python",
   "nbconvert_exporter": "python",
   "pygments_lexer": "ipython3",
   "version": "3.7.3"
  }
 },
 "nbformat": 4,
 "nbformat_minor": 2
}
