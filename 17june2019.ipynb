{
 "cells": [
  {
   "cell_type": "code",
   "execution_count": 4,
   "metadata": {},
   "outputs": [
    {
     "name": "stdout",
     "output_type": "stream",
     "text": [
      "baby123\n",
      "3\n",
      "4\n"
     ]
    }
   ],
   "source": [
    "def countofdigits(s):\n",
    "    charcount=0\n",
    "    digitcount=0\n",
    "    for i in range(0,len(s)):\n",
    "        if((s[i]>='a' and s[i]<='z') or (s[i]>='A' and s[i]<='z')):\n",
    "            charcount=charcount+1\n",
    "        elif(s[i]>='0' and s[i]<='9'):\n",
    "            digitcount=digitcount+1\n",
    "    print(digitcount)\n",
    "    print(charcount)\n",
    "    \n",
    "s=input()\n",
    "countofdigits(s)\n",
    "\n",
    "    \n",
    "    \n",
    "    \n",
    "    \n",
    "    \n",
    "    \n",
    "    \n",
    "    \n",
    "    "
   ]
  },
  {
   "cell_type": "code",
   "execution_count": 15,
   "metadata": {},
   "outputs": [
    {
     "name": "stdout",
     "output_type": "stream",
     "text": [
      "2\n",
      "6\n",
      "YES\n",
      "5\n",
      "NO\n"
     ]
    }
   ],
   "source": [
    "def factors(n):\n",
    "    s=0\n",
    "    for i in range(1,n):\n",
    "        if(n%i==0):\n",
    "            s=s+i\n",
    "   # print()\n",
    "   # print(\"sum = \",s)\n",
    "    if(n==s):\n",
    "        return \"YES\"\n",
    "    else:\n",
    "        return \"NO\"     \n",
    "testcases=int(input())\n",
    "for i in range(testcases):\n",
    "    n=int(input())\n",
    "    print(factors(n))\n",
    "\n",
    "\n",
    "    "
   ]
  },
  {
   "cell_type": "code",
   "execution_count": 1,
   "metadata": {},
   "outputs": [
    {
     "name": "stdout",
     "output_type": "stream",
     "text": [
      "2\n",
      "5\n",
      "3\n",
      "4\n",
      "3\n"
     ]
    }
   ],
   "source": [
    "def highrem(s): #5\n",
    "    r=0\n",
    "    for i in range(1,s):\n",
    "        rem=s%i   #5%1=0,5%2=1,5%3=2\n",
    "        if rem>r: 1>0,2>1,1!>2\n",
    "            r=rem #r=1 r=2\n",
    "            j=i   #j=2 j=3\n",
    "    return j\n",
    "    \n",
    "    \n",
    "t=int(input())\n",
    "for i in range(t):\n",
    "    s=int(input())\n",
    "    print(highrem(s))\n",
    "    "
   ]
  },
  {
   "cell_type": "code",
   "execution_count": 13,
   "metadata": {},
   "outputs": [
    {
     "name": "stdout",
     "output_type": "stream",
     "text": [
      "5\n",
      "prime\n"
     ]
    }
   ],
   "source": [
    "#PRIME\n",
    "def primenumber(n):\n",
    "    count=0\n",
    "    for i in range(1,n+1):\n",
    "        if (n%i==0):\n",
    "            count=count+1\n",
    "    if(count==2):\n",
    "        print(\"prime\")\n",
    "    else:\n",
    "        print(\"not prime\")\n",
    "n=int(input())           \n",
    "primenumber(n)\n",
    "           \n",
    "        \n",
    "        "
   ]
  },
  {
   "cell_type": "code",
   "execution_count": 17,
   "metadata": {},
   "outputs": [
    {
     "name": "stdout",
     "output_type": "stream",
     "text": [
      "5\n",
      "5\n",
      "5\n",
      "5\n",
      "5\n"
     ]
    }
   ],
   "source": [
    "def primenumber(n1):\n",
    "    c=0\n",
    "    for i in range(1,n+1):\n",
    "            if(n%i==0):\n",
    "                c=c+1\n",
    "            if(c==2):\n",
    "                fc=fc+1\n",
    "                    \n",
    "primenumber(7)"
   ]
  },
  {
   "cell_type": "code",
   "execution_count": null,
   "metadata": {},
   "outputs": [],
   "source": []
  }
 ],
 "metadata": {
  "kernelspec": {
   "display_name": "Python 3",
   "language": "python",
   "name": "python3"
  },
  "language_info": {
   "codemirror_mode": {
    "name": "ipython",
    "version": 3
   },
   "file_extension": ".py",
   "mimetype": "text/x-python",
   "name": "python",
   "nbconvert_exporter": "python",
   "pygments_lexer": "ipython3",
   "version": "3.7.3"
  }
 },
 "nbformat": 4,
 "nbformat_minor": 2
}
