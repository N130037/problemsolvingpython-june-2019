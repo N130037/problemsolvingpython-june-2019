{
 "cells": [
  {
   "cell_type": "markdown",
   "metadata": {},
   "source": [
    "### Problem Solving and Programming in Python -Day4"
   ]
  },
  {
   "cell_type": "markdown",
   "metadata": {},
   "source": [
    "### Day -14 June 2019"
   ]
  },
  {
   "cell_type": "markdown",
   "metadata": {},
   "source": [
    "### Day Objectives:\n",
    "\n",
    "Python Data Structures\n",
    "\n",
    "Lists\n",
    "\n",
    "Tuples\n",
    "\n",
    "Dictionaries\n",
    "\n",
    "Basic Problem set on Data Structures\n",
    "\n",
    "Advanced Problem Set\n",
    "\n",
    "Packages and Modules in Python\n"
   ]
  },
  {
   "cell_type": "markdown",
   "metadata": {},
   "source": [
    "## Python Data Structures"
   ]
  },
  {
   "cell_type": "markdown",
   "metadata": {},
   "source": [
    "### Lists "
   ]
  },
  {
   "cell_type": "code",
   "execution_count": 37,
   "metadata": {},
   "outputs": [
    {
     "data": {
      "text/plain": [
       "456.0"
      ]
     },
     "execution_count": 37,
     "metadata": {},
     "output_type": "execute_result"
    }
   ],
   "source": [
    "li = [123, 978, 654]\n",
    "\n",
    "li # Access the entire list\n",
    "\n",
    "li[1] # Access an element index in a list\n",
    "\n",
    "li[1:]  # Access all elements from second element\n",
    "\n",
    "li = li[::-1] #reverse list elements \n",
    "\n",
    "li\n",
    "\n",
    "li = li[::-1]\n",
    "\n",
    "li\n",
    "\n",
    "li[::2] # Accessing even index elements\n",
    "\n",
    "li[1::2]\n",
    "\n",
    "\n",
    "#li[1]\n",
    "\n",
    "\n",
    "# Lists can be accessed,manipulated in two different ways\n",
    "  # Direct Referencing - [index]\n",
    "  #Indirect Referencing - through functions \n",
    "\n",
    "\n",
    "li.append(345)  #Adding an element to end of the list\n",
    "\n",
    "li\n",
    "\n",
    "li.insert(1, 234) #Adding an element at a aparticular \n",
    "\n",
    "li\n",
    "\n",
    "li.sort() #Elements in ascending order\n",
    "\n",
    "li\n",
    "\n",
    "li.pop() #Remote the last element in a list\n",
    "\n",
    "li\n",
    "\n",
    "li.pop(1) #Remove an element at a particular index\n",
    "\n",
    "li\n",
    "\n",
    "li2 = [234, 456, 789]\n",
    "\n",
    "li.extend(li2) #Merge list 2 into list 1\n",
    "\n",
    "li\n",
    "\n",
    "sum(li) #Sum of all elements in a list\n",
    "\n",
    "max(li) #Maximum element in a list\n",
    "\n",
    "len(li) #Number of elements in a list\n",
    "\n",
    "sum(li)/len(li) # Average of list elements\n",
    "\n",
    "sum(li[::2])/len(li[::2]) #Average of all alternate elements\n",
    "\n",
    "sum(li[1::2])/len(li[1::2]) # Average of all odd alternate elements\n",
    "\n",
    "\n",
    "\n",
    "\n",
    "\n",
    "\n",
    "\n",
    "\n",
    "\n"
   ]
  },
  {
   "cell_type": "code",
   "execution_count": 55,
   "metadata": {},
   "outputs": [
    {
     "data": {
      "text/plain": [
       "234"
      ]
     },
     "execution_count": 55,
     "metadata": {},
     "output_type": "execute_result"
    }
   ],
   "source": [
    "#Function to identify the second largest element in a list\n",
    "    #Sort the data and select the second \n",
    "    #Sort the data and select the second last element\n",
    "    #Remove the max elememnt and then get the max of the \n",
    "    #\n",
    "\n",
    "def secondlargest(li):\n",
    "    li.sort()\n",
    "    return li[-2]\n",
    "    \n",
    "    \n",
    "    \n",
    "#Function that returns the nth largest  \n",
    "\n",
    "def genericlargest(li, n):\n",
    "    li.sort()\n",
    "    return li[-n]\n",
    "    \n",
    "secondlargest(li)\n",
    "genericlargest(li, 5)\n",
    "    "
   ]
  },
  {
   "cell_type": "code",
   "execution_count": 90,
   "metadata": {},
   "outputs": [
    {
     "data": {
      "text/plain": [
       "4"
      ]
     },
     "execution_count": 90,
     "metadata": {},
     "output_type": "execute_result"
    }
   ],
   "source": [
    "#Function to search for data in a list\n",
    "#Seach for the key in the list and return the \n",
    "\n",
    "#def linearsearch(li, key):\n",
    "#    if key in li:\n",
    "#        return True\n",
    "#    else:\n",
    "#        return False\n",
    "             \n",
    "#li=[3,5,67,23,56,99]\n",
    "#key=int(input(\"key\"))\n",
    "#linearsearch(li, 10)\n",
    "\n",
    "def linearsearch(li, key):\n",
    "    for index in range(0, len(li)):\n",
    "         if li[index] == key:\n",
    "            return index + 1\n",
    "         return -1\n",
    "\n",
    "def linearsearch2(li, key):\n",
    "    for element in li:\n",
    "        if element == key:\n",
    "            return li.index(element)\n",
    "        return -1\n",
    "    \n",
    "def linearsearch3(li, key):\n",
    "    if key in li:\n",
    "        return li.index(key)\n",
    "    return -1\n",
    "    \n",
    "    \n",
    "linearsearch3(li, 56)\n",
    "\n",
    "\n",
    "    \n",
    "    \n",
    "\n",
    "\n",
    "    \n",
    "\n",
    "                \n",
    "    "
   ]
  },
  {
   "cell_type": "code",
   "execution_count": 89,
   "metadata": {},
   "outputs": [
    {
     "data": {
      "text/plain": [
       "[3, 5, 67, 23, 56, 99]"
      ]
     },
     "execution_count": 89,
     "metadata": {},
     "output_type": "execute_result"
    }
   ],
   "source": [
    "li\n"
   ]
  },
  {
   "cell_type": "code",
   "execution_count": 107,
   "metadata": {},
   "outputs": [
    {
     "data": {
      "text/plain": [
       "2"
      ]
     },
     "execution_count": 107,
     "metadata": {},
     "output_type": "execute_result"
    }
   ],
   "source": [
    "#Function to count the occurances of a character in \n",
    "#\"Python Programming\", m-> 2\n",
    "\n",
    "def countoccurances(s, c):\n",
    "    count = 0\n",
    "    for ch in s:\n",
    "        if ch == c:\n",
    "            count += 1\n",
    "    return count\n",
    "\n",
    "def countcharoccurances2(s, c):\n",
    "    return s.count(c)\n",
    "\n",
    "countcharoccurances2(\"Python Programming\", 'm')\n",
    "    \n",
    "    \n",
    "    \n",
    "\n"
   ]
  }
 ],
 "metadata": {
  "kernelspec": {
   "display_name": "Python 3",
   "language": "python",
   "name": "python3"
  },
  "language_info": {
   "codemirror_mode": {
    "name": "ipython",
    "version": 3
   },
   "file_extension": ".py",
   "mimetype": "text/x-python",
   "name": "python",
   "nbconvert_exporter": "python",
   "pygments_lexer": "ipython3",
   "version": "3.7.3"
  }
 },
 "nbformat": 4,
 "nbformat_minor": 2
}
