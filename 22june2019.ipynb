{
 "cells": [
  {
   "cell_type": "markdown",
   "metadata": {},
   "source": [
    "#### Date: 22 june 2019\n",
    "#### Day Objectives\n",
    "\n",
    "- File Handling\n",
    "    - Basic file data processing\n",
    "         - Accessing and modifying file data\n",
    "    - Character count\n",
    "    - Line count\n",
    "    - File Size\n",
    "    - Word count\n",
    "    - Unique word count\n",
    "    \n",
    "    \n",
    "  \n",
    "    "
   ]
  },
  {
   "cell_type": "code",
   "execution_count": 69,
   "metadata": {},
   "outputs": [
    {
     "name": "stdout",
     "output_type": "stream",
     "text": [
      "Data in Line 1\n",
      "Data in Line 2\n",
      "Data in Line 3\n"
     ]
    }
   ],
   "source": [
    "#Read a file - File should exist\n",
    "#Write to a file - Existing(append) or New(write)\n",
    "\n",
    "#Function to read entire file data into a single string- character processing\n",
    "\n",
    "def readfile(filepath):\n",
    "    with open(filepath,'r') as f:\n",
    "        #print(type(f))\n",
    "        filedata=f.read()\n",
    "    return filedata\n",
    "\n",
    "filepath='DataFiles/data.txt'\n",
    "print(readfile(filepath))\n",
    "    \n"
   ]
  },
  {
   "cell_type": "code",
   "execution_count": 70,
   "metadata": {},
   "outputs": [
    {
     "data": {
      "text/plain": [
       "['Data in Line 1', 'Data in Line 2', 'Data in Line 3']"
      ]
     },
     "execution_count": 70,
     "metadata": {},
     "output_type": "execute_result"
    }
   ],
   "source": [
    "#Function to read  a file into a list of lines\n",
    "#Each element in the list is one line in the file -line processing\n",
    "\n",
    "def readFileIntoList(filepath):\n",
    "    with open(filepath,'r') as f:\n",
    "        filedata=f.read()       \n",
    "        lines=filedata.split('\\n')\n",
    "        #lines=[]\n",
    "        #for line in f:\n",
    "            #lines.append(line)\n",
    "    return lines\n",
    "filepath='DataFiles/data.txt'\n",
    "readFileIntoList(filepath)"
   ]
  },
  {
   "cell_type": "code",
   "execution_count": null,
   "metadata": {},
   "outputs": [],
   "source": []
  },
  {
   "cell_type": "code",
   "execution_count": 71,
   "metadata": {},
   "outputs": [
    {
     "data": {
      "text/plain": [
       "44"
      ]
     },
     "execution_count": 71,
     "metadata": {},
     "output_type": "execute_result"
    }
   ],
   "source": [
    "# Function to count characters in a file\n",
    "def charcount(filepath):\n",
    "    with open(filepath,'r') as f:\n",
    "        filedata=f.read()\n",
    "        count=0\n",
    "        for i in filedata:\n",
    "            if i==\" \" or i==\"\\n\":\n",
    "                count+=0\n",
    "            else:\n",
    "                count+=1\n",
    "    return count\n",
    "\n",
    "filepath='DataFiles/data.txt'\n",
    "#print(charcount(filepath))\n",
    "\n",
    "\n",
    "def charcountfile(filepath):\n",
    "    count=len(readfile(filepath))\n",
    "    return count\n",
    "charcountfile(filepath)"
   ]
  },
  {
   "cell_type": "code",
   "execution_count": 72,
   "metadata": {},
   "outputs": [
    {
     "name": "stdout",
     "output_type": "stream",
     "text": [
      "3\n"
     ]
    }
   ],
   "source": [
    "def Linecount(filepath):\n",
    "    with open(filepath,'r') as f:\n",
    "        count=0\n",
    "        for i in f:\n",
    "            if i!='\\n':\n",
    "                count+=1\n",
    "    return count\n",
    "\n",
    "filepath='DataFiles/data.txt'\n",
    "print(Linecount(filepath))"
   ]
  },
  {
   "cell_type": "code",
   "execution_count": 53,
   "metadata": {},
   "outputs": [
    {
     "data": {
      "text/plain": [
       "['Data in Line 1', 'Data in Line 2', 'Data in Line 3']"
      ]
     },
     "execution_count": 53,
     "metadata": {},
     "output_type": "execute_result"
    }
   ],
   "source": [
    "def wordcount(filepath):\n",
    "    with open(filepath,'r') as f:\n",
    "        #filedata=f.read()\n",
    "        count=0\n",
    "        for i in f:\n",
    "            if i==' ':\n",
    "                count+=1\n",
    "    return count\n",
    "\n",
    "filepath='DataFiles/data.txt'\n",
    "#print(wordcount(filepath))\n",
    "\n",
    "\n",
    "import re\n",
    "def wordcountfile(filepath):\n",
    "    pattern='[ \\n]'\n",
    "    filedata=readfile(filepath)\n",
    "    count=len(re.split(pattern,filedata))\n",
    "    return count\n",
    "\n",
    "def wordsfromfile(filepath):\n",
    "    pattern='[\\n]'\n",
    "    filedata=readfile(filepath)\n",
    "    allwordslist=re.split(pattern,filedata)\n",
    "    return allwordslist\n",
    "\n",
    "wordsfromfile(filepath)"
   ]
  },
  {
   "cell_type": "code",
   "execution_count": 73,
   "metadata": {},
   "outputs": [
    {
     "name": "stdout",
     "output_type": "stream",
     "text": [
      "['D', 'a', 't', ' ', 'i', 'n', 'L', 'e', '1', '\\n', '2', '3']\n"
     ]
    }
   ],
   "source": [
    "def unique(filepath):\n",
    "    unique=[]\n",
    "    with open(filepath,'r') as f:\n",
    "        filedata=f.read()\n",
    "        for i in filedata:\n",
    "            if i not in unique:\n",
    "                unique.append(i)\n",
    "        print(unique)\n",
    "filepath='DataFiles/data.txt'\n",
    "unique(filepath)\n",
    "        "
   ]
  },
  {
   "cell_type": "code",
   "execution_count": 78,
   "metadata": {},
   "outputs": [
    {
     "name": "stdout",
     "output_type": "stream",
     "text": [
      "[1, 2, 3, 4, 5]\n"
     ]
    }
   ],
   "source": [
    "#Function to print unique data in a list\n",
    "#[1,2,3,3,2,1]->[1,2,3]\n",
    "#creat a empty unique list [] ->[1] ->[1,2] ->[1,2,3]\n",
    "\n",
    "def uniqueData(li):\n",
    "    #create an empty unique list\n",
    "    unique=[]\n",
    "    #for every element in the main list,check if it exists in the unique list\n",
    "    #If it does not exist,add it to unique list\n",
    "    #else if it already exists,move on to the next element in the main list\n",
    "    \n",
    "    for element in li:\n",
    "        if element not in unique:\n",
    "            unique.append(element)\n",
    "    return unique\n",
    "li=[1,2,2,3,3,4,5]\n",
    "print(uniqueData(li))\n",
    "    \n",
    "    \n"
   ]
  },
  {
   "cell_type": "code",
   "execution_count": 79,
   "metadata": {},
   "outputs": [
    {
     "data": {
      "text/plain": [
       "['Data', 'in', 'Line', '1', '2', '3']"
      ]
     },
     "execution_count": 79,
     "metadata": {},
     "output_type": "execute_result"
    }
   ],
   "source": [
    "#function to print unique word count in a file\n",
    "\n",
    "def countuniquewords(filepath):\n",
    "    filedata=readfile(filepath).split()\n",
    "    x=[]\n",
    "    for i in filedata:\n",
    "        if i not in x:\n",
    "            x.append(i)\n",
    "            \n",
    "    return x\n",
    "    \n",
    "\n",
    "filepath='DataFiles/data.txt'\n",
    "countuniquewords(filepath)\n",
    "        "
   ]
  },
  {
   "cell_type": "code",
   "execution_count": 57,
   "metadata": {},
   "outputs": [
    {
     "name": "stdout",
     "output_type": "stream",
     "text": [
      "Data : 3 \n",
      "\n",
      "in : 3 \n",
      "\n",
      "Line : 3 \n",
      "\n",
      "1 : 1 \n",
      "\n",
      "2 : 1 \n",
      "\n",
      "3 : 1 \n",
      "\n"
     ]
    }
   ],
   "source": [
    "# Function to print frequency count of all elements in a file\n",
    "#frequency distribution\n",
    "# Data in line 1\n",
    "# Data in line 2\n",
    "# Data in line 3\n",
    "# output\n",
    "# data:3\n",
    "#in:3\n",
    "#line:3\n",
    "#1:1\n",
    "#2:1\n",
    "#3:1\n",
    "\n",
    "def frequencywordcount(filepath):\n",
    "    x=countuniquewords(filepath)\n",
    "    filedata=readfile(filepath).split()\n",
    "    for i in x:\n",
    "        count=0\n",
    "        for j in filedata:\n",
    "            if i==j:\n",
    "                count+=1\n",
    "        print(i,\":\",count,'\\n')\n",
    "    return\n",
    "        \n",
    "filepath='DataFiles/data.txt'\n",
    "frequencywordcount(filepath)    \n",
    "\n"
   ]
  },
  {
   "cell_type": "code",
   "execution_count": 80,
   "metadata": {},
   "outputs": [
    {
     "data": {
      "text/plain": [
       "{'Data in Line 1': 1, 'Data in Line 2': 1, 'Data in Line 3': 1}"
      ]
     },
     "execution_count": 80,
     "metadata": {},
     "output_type": "execute_result"
    }
   ],
   "source": [
    "import re\n",
    "\n",
    "def freqDistributionOfWords1(filepath):\n",
    "    #Dictionary to be used\n",
    "    #keys-> Unique words\n",
    "    #Values-> Count of unique words\n",
    "\n",
    "    # Two lists\n",
    "       # AllWords list-\n",
    "       # Uniqueword list-\n",
    "    # Set\n",
    "    allwords=wordsfromfile(filepath)\n",
    "    uniquewords=uniqueData(filedata)\n",
    "    \n",
    "    for word in uniquewords:\n",
    "        count=allwords.count(word)\n",
    "        print(word,':',count)\n",
    "    return\n",
    "\n",
    "def FreqDistributionOfWords2(filepath):\n",
    "    allwords=wordsfromfile(filepath)\n",
    "    wordFrequency={}\n",
    "    \n",
    "    for word in allwords:\n",
    "        if word not in wordFrequency.keys():\n",
    "            wordFrequency[word]=1\n",
    "        else:\n",
    "            wordFrequency[word]+=1\n",
    "    return wordFrequency\n",
    "    \n",
    "\n",
    "FreqDistributionOfWords2(filepath)\n"
   ]
  },
  {
   "cell_type": "code",
   "execution_count": null,
   "metadata": {},
   "outputs": [],
   "source": [
    "# Contacts Application\n",
    "   # Add,Search,List,Modify and Delete contacts\n",
    "\n",
    "# Find and Replace Application\n",
    "  # Count the total number of occurances of \n",
    "  # If word is existing\n",
    "  # Replace all occurances of a word with another word \n",
    "    \n",
    "# Marks Analysis Application\n",
    "   # Generate marks file - marks file for n students\n",
    "   # Input: Marks text file- each line contain marks of students\n",
    "   # Generates a report with the following information\n",
    "           # Class Average\n",
    "           # % of students passed\n",
    "           # % of students failed\n",
    "           # % of students with distinction\n",
    "           # Highest Mark Frequency\n",
    "           # Lowest Mark Frequency\n",
    "           \n",
    "    "
   ]
  },
  {
   "cell_type": "code",
   "execution_count": 83,
   "metadata": {},
   "outputs": [],
   "source": [
    "# Function to generate marks data for n students\n",
    "from random import randint\n",
    "\n",
    "def generatemarks(n,lb,ub):\n",
    "    with open('DataFiles/marks.txt','w') as f:\n",
    "        for i in range(0,n):\n",
    "            r=randint(lb,ub)\n",
    "            f.write(str(r)+'\\n')\n",
    "    return\n",
    "generatemarks(1000,0,100)\n",
    "    \n",
    "    "
   ]
  },
  {
   "cell_type": "code",
   "execution_count": null,
   "metadata": {},
   "outputs": [],
   "source": []
  }
 ],
 "metadata": {
  "kernelspec": {
   "display_name": "Python 3",
   "language": "python",
   "name": "python3"
  },
  "language_info": {
   "codemirror_mode": {
    "name": "ipython",
    "version": 3
   },
   "file_extension": ".py",
   "mimetype": "text/x-python",
   "name": "python",
   "nbconvert_exporter": "python",
   "pygments_lexer": "ipython3",
   "version": "3.7.3"
  }
 },
 "nbformat": 4,
 "nbformat_minor": 2
}
