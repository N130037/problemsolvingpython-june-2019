{
 "cells": [
  {
   "cell_type": "code",
   "execution_count": 17,
   "metadata": {},
   "outputs": [
    {
     "name": "stdout",
     "output_type": "stream",
     "text": [
      "Baby\n",
      "bABY"
     ]
    }
   ],
   "source": [
    "#Toggle String\n",
    "k=input()\n",
    "for i in k:\n",
    "    if i.isupper():\n",
    "        print (i.lower(),end=\"\")\n",
    "    else:\n",
    "        print(i.upper(),end=\"\")\n"
   ]
  },
  {
   "cell_type": "code",
   "execution_count": 54,
   "metadata": {},
   "outputs": [
    {
     "name": "stdout",
     "output_type": "stream",
     "text": [
      "1 10 1\n",
      "10\n"
     ]
    }
   ],
   "source": [
    "#Count Divider\n",
    "def countdivisor(i,j,k):\n",
    "    count=0\n",
    "    for n in range(i,j+1):\n",
    "        if n % k==0:\n",
    "            count+=1\n",
    "    print(count)\n",
    "\n",
    "\n",
    "s=input()\n",
    "s=s.split()\n",
    "for n in s:\n",
    "    i=int(s[0])\n",
    "    j=int(s[1])\n",
    "    k=int(s[2])\n",
    "        \n",
    "        \n",
    "        \n",
    "countdivisor(i,j,k)\n",
    "\n"
   ]
  },
  {
   "cell_type": "code",
   "execution_count": 29,
   "metadata": {},
   "outputs": [
    {
     "name": "stdout",
     "output_type": "stream",
     "text": [
      "Enter n6\n",
      "720\n"
     ]
    }
   ],
   "source": [
    "#Factorial\n",
    "def factorial(n):\n",
    "    fact=1\n",
    "    for i in range(1,n+1):\n",
    "        fact=fact*n\n",
    "        n=n-1\n",
    "        \n",
    "    print(fact)\n",
    "    return\n",
    "n=int(input(\"Enter n\"))\n",
    "factorial(6)\n",
    "\n"
   ]
  },
  {
   "cell_type": "code",
   "execution_count": 58,
   "metadata": {},
   "outputs": [
    {
     "name": "stdout",
     "output_type": "stream",
     "text": [
      "enter string6\n"
     ]
    },
    {
     "data": {
      "text/plain": [
       "True"
      ]
     },
     "execution_count": 58,
     "metadata": {},
     "output_type": "execute_result"
    }
   ],
   "source": [
    "#Palindrome\n",
    "def palindrome(s):\n",
    "    if s == s[::-1]:\n",
    "        return True\n",
    "    else:\n",
    "         return False\n",
    "\n",
    "s=input(str(\"enter string\"))\n",
    "palindrome(s)\n"
   ]
  },
  {
   "cell_type": "code",
   "execution_count": 59,
   "metadata": {},
   "outputs": [
    {
     "name": "stdout",
     "output_type": "stream",
     "text": [
      "6\n",
      "2 3 5 "
     ]
    }
   ],
   "source": [
    "#Prime\n",
    "\n",
    "def isprime(n):\n",
    "    count=0\n",
    "    for j in range(1,n+1):\n",
    "        if n%j==0:\n",
    "           count=count+1\n",
    "    if count==2:\n",
    "        \n",
    "        return True\n",
    "    else:\n",
    "        return False\n",
    "        \n",
    "        \n",
    "def prime(n):\n",
    "    count=0\n",
    "    for i in range(1,n+1):\n",
    "        if isprime(i):\n",
    "            print (i,end=\" \")\n",
    "            \n",
    "n=int(input())\n",
    "prime(n)\n",
    "\n",
    "\n",
    "        "
   ]
  },
  {
   "cell_type": "code",
   "execution_count": 2,
   "metadata": {},
   "outputs": [
    {
     "name": "stdout",
     "output_type": "stream",
     "text": [
      "2\n",
      "baby byba\n",
      "Yes\n",
      "baby babi\n",
      "No\n"
     ]
    }
   ],
   "source": [
    "#Two strings\n",
    "n=int(input())\n",
    "def twoStrings(s,t):\n",
    "    f=1\n",
    "    if len(s)!=len(t):\n",
    "        return 'No'\n",
    "    else:\n",
    "        for i in range(len(s)):\n",
    "            if s.count(s[i])!=t.count(s[i]):\n",
    "                return 'No'\n",
    "        if f == 1:\n",
    "            return 'Yes'\n",
    "for i in range(n):\n",
    "    st=input().split()\n",
    "    s=st[0]\n",
    "    t=st[1]\n",
    "    print(twoStrings(s,t))"
   ]
  },
  {
   "cell_type": "code",
   "execution_count": 4,
   "metadata": {},
   "outputs": [
    {
     "name": "stdout",
     "output_type": "stream",
     "text": [
      "aba\n",
      "4\n"
     ]
    }
   ],
   "source": [
    "#Charsum\n",
    "def charsum(n):\n",
    "    sum=0\n",
    "    for i in n:\n",
    "        sum+=(ord(i)-96)\n",
    "    return sum\n",
    "        \n",
    "n=input()\n",
    "print(charsum(n))"
   ]
  },
  {
   "cell_type": "code",
   "execution_count": 4,
   "metadata": {},
   "outputs": [
    {
     "name": "stdout",
     "output_type": "stream",
     "text": [
      "1\n",
      "1 44 2 14\n",
      "0 30\n"
     ]
    }
   ],
   "source": [
    "#Duration\n",
    "def duration(sh,sm,eh,em):\n",
    "    a=(sh*60)+sm\n",
    "    b=(eh*60)+em\n",
    "    c=b-a\n",
    "    d=c//60\n",
    "    e=c%60\n",
    "    print(d,e)\n",
    "    \n",
    "\n",
    "n=int(input())\n",
    "for i in range (n):\n",
    "    s=input().split()\n",
    "    sh=int(s[0])\n",
    "    sm=int(s[1])\n",
    "    eh=int(s[2])\n",
    "    em=int(s[3])\n",
    "    duration(sh,sm,eh,em)\n",
    "    "
   ]
  },
  {
   "cell_type": "markdown",
   "metadata": {},
   "source": [
    "Play with numbers\n",
    "\n",
    "line 1:array size(n), no of queries(q)\n",
    "\n",
    "line 2:n array elements\n",
    "\n",
    "next q lines : query - sub array of the origin\n",
    "\n",
    "input                    output\n",
    "\n",
    "5 3                        2\n",
    "\n",
    "1 2 3 4 5                  3\n",
    "\n",
    "1 3                        3\n",
    "\n",
    "2 4 \n",
    "\n",
    "2 5"
   ]
  },
  {
   "cell_type": "markdown",
   "metadata": {},
   "source": []
  }
 ],
 "metadata": {
  "kernelspec": {
   "display_name": "Python 3",
   "language": "python",
   "name": "python3"
  },
  "language_info": {
   "codemirror_mode": {
    "name": "ipython",
    "version": 3
   },
   "file_extension": ".py",
   "mimetype": "text/x-python",
   "name": "python",
   "nbconvert_exporter": "python",
   "pygments_lexer": "ipython3",
   "version": "3.7.3"
  }
 },
 "nbformat": 4,
 "nbformat_minor": 2
}
