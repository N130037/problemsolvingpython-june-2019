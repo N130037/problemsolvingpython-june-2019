{
 "cells": [
  {
   "cell_type": "code",
   "execution_count": 6,
   "metadata": {},
   "outputs": [
    {
     "name": "stdout",
     "output_type": "stream",
     "text": [
      "2\n",
      "5\n",
      "1 5\n",
      "4 6 7 9\n",
      "5 31\n"
     ]
    }
   ],
   "source": [
    "### 5.print count and sum of digits in a given string \n",
    "\n",
    "#### test cases: 2\n",
    "#### 5 ---> 1 5\n",
    "#### 3 5 7 2 3  ---> 5 20\n",
    "\n",
    "\n",
    "def count_sum(n):\n",
    "    s=0\n",
    "    c=0\n",
    "    for i in range(n):\n",
    "        li=list(map(int,input().split()))\n",
    "        for num in li:\n",
    "            s=s+num\n",
    "            c=c+1\n",
    "        print(c,s,sep=\" \")\n",
    "                \n",
    "n=int(input())\n",
    "count_sum(n)\n",
    "    \n",
    "    \n",
    "    "
   ]
  },
  {
   "cell_type": "code",
   "execution_count": 11,
   "metadata": {},
   "outputs": [
    {
     "name": "stdout",
     "output_type": "stream",
     "text": [
      "3\n",
      "b\n",
      "1\n",
      "python\n",
      "nohtyp\n",
      "hellp python\n",
      "nohtyp plleh\n"
     ]
    }
   ],
   "source": [
    "##6.Print factorial of a value if the length of a string is  prime otherwise print string in reverse\n",
    "\n",
    "#### test cases : 3\n",
    "\n",
    "#### b --> 1 \n",
    "#### hello -->120\n",
    "#### hello python ->nohtyp olleh\n",
    "\n",
    "\n",
    "def prime(n):\n",
    "    c=0\n",
    "    for i in range(1,n+1):\n",
    "        if(n%i==0):\n",
    "            c=c+1\n",
    "    if(c==2):\n",
    "        return True\n",
    "def fact(n):\n",
    "    fact=1\n",
    "    for i in range(1,n+1):\n",
    "        fact=fact*i\n",
    "    print(fact)\n",
    "    \n",
    "\n",
    "        \n",
    "t=int(input())\n",
    "for num in range(t):\n",
    "    st=input()\n",
    "    l=len(st)\n",
    "    if l==1:\n",
    "        print(1)\n",
    "    elif prime(l):\n",
    "        res=fact(l)\n",
    "        if res!=None:\n",
    "            print(res)\n",
    "    else:\n",
    "        print(st[::-1])\n",
    "    \n",
    "\n",
    "        \n",
    "\n",
    "      \n",
    "\n",
    "\n"
   ]
  },
  {
   "cell_type": "code",
   "execution_count": 17,
   "metadata": {},
   "outputs": [
    {
     "name": "stdout",
     "output_type": "stream",
     "text": [
      "1 2 10 100 500 50 100 6 7\n",
      "233.33333333333334\n"
     ]
    }
   ],
   "source": [
    "##9.Find the average of unique three digit numbers\n",
    "##1 2 10 100 500 50 100 6 7 \n",
    "# 300--> o/p\n",
    "\n",
    "s=input().split()\n",
    "sum=0\n",
    "count=0\n",
    "for i in s:\n",
    "    n=int(i)\n",
    "    if(n>=100 and n<=990):\n",
    "        sum=sum+n\n",
    "        count=count+1\n",
    "        average=sum/count\n",
    "print(average)\n",
    "\n",
    "    \n",
    "    \n",
    "\n",
    "\n",
    "\n",
    "\n",
    "\n"
   ]
  },
  {
   "cell_type": "code",
   "execution_count": null,
   "metadata": {},
   "outputs": [],
   "source": [
    "#10.Find the minimum difference for the given input data\n",
    "#6 3 9 15\n",
    "#3--> o/p\n",
    "\n",
    "\n",
    "\n",
    "\n",
    "\n"
   ]
  }
 ],
 "metadata": {
  "kernelspec": {
   "display_name": "Python 3",
   "language": "python",
   "name": "python3"
  },
  "language_info": {
   "codemirror_mode": {
    "name": "ipython",
    "version": 3
   },
   "file_extension": ".py",
   "mimetype": "text/x-python",
   "name": "python",
   "nbconvert_exporter": "python",
   "pygments_lexer": "ipython3",
   "version": "3.7.3"
  }
 },
 "nbformat": 4,
 "nbformat_minor": 2
}
