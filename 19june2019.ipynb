{
 "cells": [
  {
   "cell_type": "markdown",
   "metadata": {},
   "source": [
    "Warmup-1"
   ]
  },
  {
   "cell_type": "code",
   "execution_count": 12,
   "metadata": {},
   "outputs": [
    {
     "data": {
      "text/plain": [
       "True"
      ]
     },
     "execution_count": 12,
     "metadata": {},
     "output_type": "execute_result"
    }
   ],
   "source": [
    "def sleep_in(weekday, vacation):\n",
    "  if not weekday or vacation:\n",
    "    return True\n",
    "  else:\n",
    "    return False\n",
    "sleep_in(False,False)\n",
    "    "
   ]
  },
  {
   "cell_type": "code",
   "execution_count": 5,
   "metadata": {},
   "outputs": [
    {
     "data": {
      "text/plain": [
       "True"
      ]
     },
     "execution_count": 5,
     "metadata": {},
     "output_type": "execute_result"
    }
   ],
   "source": [
    "def monkey_trouble(a_smile, b_smile):\n",
    "  if a_smile and b_smile:\n",
    "    return True\n",
    "  if not a_smile and not b_smile:\n",
    "    return True\n",
    "  return False\n",
    "monkey_trouble(True,True)\n"
   ]
  },
  {
   "cell_type": "code",
   "execution_count": 6,
   "metadata": {},
   "outputs": [
    {
     "data": {
      "text/plain": [
       "5"
      ]
     },
     "execution_count": 6,
     "metadata": {},
     "output_type": "execute_result"
    }
   ],
   "source": [
    "def sum_double(a, b):\n",
    "  sum = a + b\n",
    "  \n",
    "  if a == b :\n",
    "    sum = sum * 2\n",
    "  return sum\n",
    "sum_double(2, 3)\n",
    "    \n"
   ]
  },
  {
   "cell_type": "code",
   "execution_count": 7,
   "metadata": {},
   "outputs": [
    {
     "data": {
      "text/plain": [
       "16"
      ]
     },
     "execution_count": 7,
     "metadata": {},
     "output_type": "execute_result"
    }
   ],
   "source": [
    "def diff21(n):\n",
    "  if n<=21:\n",
    "    return 21-n\n",
    "  else:\n",
    "    return (n-21)*2\n",
    "diff21(5)\n"
   ]
  },
  {
   "cell_type": "code",
   "execution_count": 8,
   "metadata": {},
   "outputs": [
    {
     "data": {
      "text/plain": [
       "True"
      ]
     },
     "execution_count": 8,
     "metadata": {},
     "output_type": "execute_result"
    }
   ],
   "source": [
    "def parrot_trouble(talking, hour):\n",
    "  if(talking and (hour<7 or hour>20)):\n",
    "    return True\n",
    "  else:\n",
    "    return False\n",
    "parrot_trouble(True, 6)\n",
    "  \n"
   ]
  },
  {
   "cell_type": "code",
   "execution_count": 9,
   "metadata": {},
   "outputs": [
    {
     "data": {
      "text/plain": [
       "False"
      ]
     },
     "execution_count": 9,
     "metadata": {},
     "output_type": "execute_result"
    }
   ],
   "source": [
    "def makes10(a, b):\n",
    "  return(a==10 or b==10 or a+b == 10)\n",
    "makes10(2, 3)\n",
    "  \n",
    "    \n"
   ]
  },
  {
   "cell_type": "code",
   "execution_count": 10,
   "metadata": {},
   "outputs": [
    {
     "data": {
      "text/plain": [
       "False"
      ]
     },
     "execution_count": 10,
     "metadata": {},
     "output_type": "execute_result"
    }
   ],
   "source": [
    "def near_hundred(n):\n",
    "  if ((n>=90 and n<=110) or (n>=190 and n<=210)):\n",
    "    return True\n",
    "  else:\n",
    "    return False\n",
    "near_hundred(10)\n",
    "  \n",
    "  "
   ]
  },
  {
   "cell_type": "code",
   "execution_count": 11,
   "metadata": {},
   "outputs": [
    {
     "data": {
      "text/plain": [
       "False"
      ]
     },
     "execution_count": 11,
     "metadata": {},
     "output_type": "execute_result"
    }
   ],
   "source": [
    "def pos_neg(a, b, negative):\n",
    "  if negative:\n",
    "    return(a<0 and b>0)\n",
    "  else:\n",
    "    return(a<0 and b>0) or (a>0 and b<0)\n",
    "pos_neg(2, 3, False)\n"
   ]
  },
  {
   "cell_type": "markdown",
   "metadata": {},
   "source": [
    "Hackerearth"
   ]
  },
  {
   "cell_type": "code",
   "execution_count": 14,
   "metadata": {},
   "outputs": [
    {
     "name": "stdout",
     "output_type": "stream",
     "text": [
      "180\n",
      "2\n",
      "240 480\n",
      "CROP IT\n",
      "180 180\n",
      "ACCEPTED\n"
     ]
    }
   ],
   "source": [
    "def profile(L,W,H):\n",
    "    #for i in range(1,N+1):\n",
    "    if(W<L or H<L):\n",
    "        print(\"UPLOAD ANOTHER\")\n",
    "    elif(W==H):\n",
    "        print(\"ACCEPTED\")\n",
    "    else:\n",
    "        print(\"CROP IT\")\n",
    "    return    \n",
    "\n",
    "    \n",
    "\n",
    "\n",
    "\n",
    "\n",
    "L=int(input())\n",
    "N=int(input())\n",
    "for i in range(N):\n",
    "    s=input().split()\n",
    "    W=int(s[0])\n",
    "    H=int(s[1])\n",
    "    profile(L,W,H)\n",
    "    "
   ]
  },
  {
   "cell_type": "code",
   "execution_count": 15,
   "metadata": {},
   "outputs": [
    {
     "name": "stdout",
     "output_type": "stream",
     "text": [
      "140620\n",
      "Illegal ISBN\n"
     ]
    }
   ],
   "source": [
    "N=input()\n",
    "def ISBN(N):\n",
    "    sum=0\n",
    "    if len(N)!=10:\n",
    "        print(\"Illegal ISBN\")\n",
    "    else:\n",
    "        for j in range(1, len(N)+1):\n",
    "            for i in N:\n",
    "                sum += (int(i)*j)\n",
    "        if sum % 11 == 0:\n",
    "            print(\"Legal ISBN\")\n",
    "        else:\n",
    "            print(\"Illegal ISBN\")\n",
    "ISBN(N)\n",
    "        \n",
    "        "
   ]
  },
  {
   "cell_type": "code",
   "execution_count": null,
   "metadata": {},
   "outputs": [],
   "source": []
  }
 ],
 "metadata": {
  "kernelspec": {
   "display_name": "Python 3",
   "language": "python",
   "name": "python3"
  },
  "language_info": {
   "codemirror_mode": {
    "name": "ipython",
    "version": 3
   },
   "file_extension": ".py",
   "mimetype": "text/x-python",
   "name": "python",
   "nbconvert_exporter": "python",
   "pygments_lexer": "ipython3",
   "version": "3.7.3"
  }
 },
 "nbformat": 4,
 "nbformat_minor": 2
}
