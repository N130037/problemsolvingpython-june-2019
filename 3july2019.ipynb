{
 "cells": [
  {
   "cell_type": "code",
   "execution_count": 5,
   "metadata": {},
   "outputs": [
    {
     "name": "stdout",
     "output_type": "stream",
     "text": [
      "baby\n",
      "Baby\n"
     ]
    }
   ],
   "source": [
    "n=input()\n",
    "def char_str(n):\n",
    "    print(str.title(n))\n",
    "    \n",
    "char_str(n)\n",
    "            \n"
   ]
  },
  {
   "cell_type": "code",
   "execution_count": 22,
   "metadata": {},
   "outputs": [
    {
     "name": "stdout",
     "output_type": "stream",
     "text": [
      "baby deepak\n",
      "deepak\n"
     ]
    }
   ],
   "source": [
    "words=input().split()\n",
    "lengths=[]\n",
    "def max_len(words):\n",
    "    for word in words:\n",
    "        lengths.append(len(word))\n",
    "        maximum_lenghts=max(lengths)\n",
    "    for word in words:\n",
    "        if maximum_lenghts==len(word):\n",
    "            print(word)\n",
    "max_len(words)\n",
    "            \n",
    "\n",
    "        "
   ]
  },
  {
   "cell_type": "code",
   "execution_count": 7,
   "metadata": {},
   "outputs": [
    {
     "name": "stdout",
     "output_type": "stream",
     "text": [
      "baby deepak reetu\n",
      "r\n",
      "-1\n",
      "-1\n",
      "reetu\n"
     ]
    }
   ],
   "source": [
    "s=input().split()\n",
    "ch=input()\n",
    "def char(s):\n",
    "    for word in s:\n",
    "        if(word.startswith(ch)):\n",
    "            print(word)\n",
    "        else:\n",
    "            print(-1)\n",
    "char(s)"
   ]
  },
  {
   "cell_type": "code",
   "execution_count": 7,
   "metadata": {},
   "outputs": [
    {
     "name": "stdout",
     "output_type": "stream",
     "text": [
      "10 20 35 40\n",
      "35\n"
     ]
    }
   ],
   "source": [
    "#print second max\n",
    "\n",
    "def sec_max(li):\n",
    "    str=input().split()\n",
    "    li=[]\n",
    "    for ch in str:\n",
    "        li.append(int(ch))\n",
    "        li.sort()\n",
    "    print(li[-2])\n",
    "        \n",
    "\n",
    "sec_max(li)\n"
   ]
  },
  {
   "cell_type": "code",
   "execution_count": 15,
   "metadata": {},
   "outputs": [
    {
     "name": "stdout",
     "output_type": "stream",
     "text": [
      "15\n",
      "2 4 6 8 10 12 14 \n",
      "1 3 5 7 9 11 13 15 "
     ]
    }
   ],
   "source": [
    "n=int(input())\n",
    "def evenodd(n):\n",
    "    for i in range(1,n+1):\n",
    "        if(i%2==0):\n",
    "            print(i,end=\" \") \n",
    "    print()\n",
    "    for j in range(1,i+1):\n",
    "        if(j%2==1):\n",
    "            print(j,end=\" \")\n",
    "            \n",
    "evenodd(n)\n",
    "\n",
    "        \n",
    "    "
   ]
  },
  {
   "cell_type": "code",
   "execution_count": 7,
   "metadata": {},
   "outputs": [
    {
     "name": "stdout",
     "output_type": "stream",
     "text": [
      "1\n",
      "15\n",
      "2 3 5 7 11 13 "
     ]
    }
   ],
   "source": [
    "lb=int(input())\n",
    "uw=int(input())\n",
    "def prime(lb,uw):\n",
    "    for i in range(lb,uw+1):\n",
    "        c=0\n",
    "        for j in range(1,i+1):\n",
    "            if (i%j==0):\n",
    "                c+=1\n",
    "        if(c==2):\n",
    "            print(i,end=\" \")\n",
    "        i+=1\n",
    "    \n",
    "prime(lb,uw)"
   ]
  },
  {
   "cell_type": "code",
   "execution_count": 2,
   "metadata": {},
   "outputs": [
    {
     "name": "stdout",
     "output_type": "stream",
     "text": [
      "5\n",
      "120\n"
     ]
    }
   ],
   "source": [
    "n=int(input())\n",
    "def fact(n):\n",
    "    fact=1\n",
    "    for i in range(1,n+1):\n",
    "        fact=fact*i\n",
    "    print(fact)\n",
    "fact(n)\n",
    "\n",
    "    \n",
    "    \n",
    "\n",
    "    \n",
    "    "
   ]
  },
  {
   "cell_type": "code",
   "execution_count": 4,
   "metadata": {},
   "outputs": [
    {
     "name": "stdout",
     "output_type": "stream",
     "text": [
      "5\n"
     ]
    },
    {
     "data": {
      "text/plain": [
       "True"
      ]
     },
     "execution_count": 4,
     "metadata": {},
     "output_type": "execute_result"
    }
   ],
   "source": [
    "n=int(input())\n",
    "def prime(n):\n",
    "    c=0\n",
    "    for i in range(1,n+1):\n",
    "        if(n%i==0):\n",
    "            c=c+1\n",
    "    if(c==2):\n",
    "        return True\n",
    "prime(n)\n",
    "    "
   ]
  },
  {
   "cell_type": "code",
   "execution_count": 11,
   "metadata": {},
   "outputs": [
    {
     "name": "stdout",
     "output_type": "stream",
     "text": [
      "4\n",
      "16\n"
     ]
    }
   ],
   "source": [
    "n=int(input())\n",
    "def powerofvalue(n):\n",
    "    print(n**2)\n",
    "powerofvalue(n)"
   ]
  },
  {
   "cell_type": "code",
   "execution_count": 14,
   "metadata": {
    "scrolled": true
   },
   "outputs": [
    {
     "name": "stdout",
     "output_type": "stream",
     "text": [
      "2\n",
      "5\n",
      "120\n",
      "4\n",
      "16\n"
     ]
    }
   ],
   "source": [
    "### 4.Print factorial of a given number if it is a prime otherwise print power of the value.\n",
    "\n",
    "#### test cases : 2\n",
    "#### 5  --> 120\n",
    "#### 4 --> 16\n",
    "\n",
    "t=int(input())\n",
    "def fact(n):\n",
    "    fact=1\n",
    "    for i in range(1,n+1):\n",
    "        fact=fact*i\n",
    "    print(fact)\n",
    "#fact(n)\n",
    "\n",
    "def prime(n):\n",
    "    c=0\n",
    "    for i in range(1,n+1):\n",
    "        if(n%i==0):\n",
    "            c=c+1\n",
    "    if(c==2):\n",
    "        return True\n",
    "#prime(n)\n",
    "#n=int(input())\n",
    "def powerofvalue(n):\n",
    "    print(n**2)\n",
    "#powerofvalue(n)\n",
    "\n",
    "for i in range(t):\n",
    "    n=int(input())\n",
    "    if prime(n):\n",
    "        res=fact(n)\n",
    "        if res!=None:\n",
    "            print(res)\n",
    "    else:\n",
    "        p=powerofvalue(n)\n",
    "        if p!=None:\n",
    "            print(p)\n",
    "                \n",
    "\n",
    "    "
   ]
  },
  {
   "cell_type": "markdown",
   "metadata": {},
   "source": [
    "##### x=xaxis\n",
    "y=yaxis\n",
    "def emaze(x,y):\n",
    "    for axis in range(x,y):\n",
    "        if(l(-1,0))"
   ]
  },
  {
   "cell_type": "code",
   "execution_count": 14,
   "metadata": {},
   "outputs": [
    {
     "data": {
      "text/plain": [
       "{3, 4}"
      ]
     },
     "execution_count": 14,
     "metadata": {},
     "output_type": "execute_result"
    }
   ],
   "source": [
    "a={1,2,3,4}\n",
    "b={3,4,5,6}\n",
    "#a.union(b)\n",
    "#a.intersection(b)\n",
    "a.isdisjoint(b)"
   ]
  },
  {
   "cell_type": "code",
   "execution_count": null,
   "metadata": {},
   "outputs": [],
   "source": []
  }
 ],
 "metadata": {
  "kernelspec": {
   "display_name": "Python 3",
   "language": "python",
   "name": "python3"
  },
  "language_info": {
   "codemirror_mode": {
    "name": "ipython",
    "version": 3
   },
   "file_extension": ".py",
   "mimetype": "text/x-python",
   "name": "python",
   "nbconvert_exporter": "python",
   "pygments_lexer": "ipython3",
   "version": "3.7.3"
  }
 },
 "nbformat": 4,
 "nbformat_minor": 2
}
