{
 "cells": [
  {
   "cell_type": "markdown",
   "metadata": {},
   "source": [
    "#### Day objectives:\n",
    "\n",
    "String Slicing \n",
    "\n",
    "Function In Python\n",
    "\n",
    "Basic Problems related to conditional statements using functions\n",
    "\n",
    "Iteration In Python\n",
    "\n",
    "Problem set for practice\n",
    "\n",
    "\n",
    "\n",
    "\n",
    "\n",
    "\n",
    "\n",
    "\n"
   ]
  },
  {
   "cell_type": "code",
   "execution_count": null,
   "metadata": {},
   "outputs": [],
   "source": [
    "String Slicing\n",
    "\n",
    "s1 = \"Python\"\n",
    "\n",
    "s1[0] # Accessing the first character in a string\n",
    "s1[1] # Accessing the second character in a string\n",
    "s1[len(s1)-1] # Accessing the last chracter in a string\n",
    "\n",
    "s1[-1] # Another way of accessing the last character\n",
    "\n",
    "s1[-2] # Accessing the penultimate character of a string\n",
    "\n",
    "s1[0:2] # Accessing the first two characters in a string\n",
    "\n",
    "s1[-2:] # Accessing the last two characters in a string\n",
    "\n",
    "s1[4:] # Accessing all characters from 5th character to end of string\n",
    "\n",
    "s1[1:-1] # Accessing all characters except first and last character\n",
    "\n",
    "s1[len(s1)//2] # Accessing middle character in an odd length string\n",
    "\n",
    "s1[-1: :-1] # Reverse of a string\n",
    "\n",
    "s1[-1:-3:-1] # Accessing last two  characters in reverse order\n",
    "\n",
    " # s1[s1(len(s1)//s2len(s1)//2-2:-1)] # Reverse the middle two characters in an even length string\n",
    "\n",
    "s1[-2: :1]\n",
    "# Accessing alternate charecters in a string\n",
    "# \"Python\"-> \"Pto\"\n",
    "\n",
    "s1[::-2]\n",
    "\n",
    "# Accessing alternate characters of a string in reverse \n",
    "# \"Python\"->\"nhy\"\n",
    "\n",
    "s1[::-2]"
   ]
  },
  {
   "cell_type": "markdown",
   "metadata": {},
   "source": [
    "Functions"
   ]
  },
  {
   "cell_type": "code",
   "execution_count": 30,
   "metadata": {},
   "outputs": [
    {
     "data": {
      "text/plain": [
       "'nohtyp'"
      ]
     },
     "execution_count": 30,
     "metadata": {},
     "output_type": "execute_result"
    }
   ],
   "source": [
    "# Function to reverse a string\n",
    "def reverseString(s):\n",
    "    return s[::-1]\n",
    "\n",
    "reverseString(\"python\")"
   ]
  },
  {
   "cell_type": "code",
   "execution_count": 37,
   "metadata": {},
   "outputs": [
    {
     "name": "stdout",
     "output_type": "stream",
     "text": [
      "Enter stringmadam\n"
     ]
    },
    {
     "data": {
      "text/plain": [
       "True"
      ]
     },
     "execution_count": 37,
     "metadata": {},
     "output_type": "execute_result"
    }
   ],
   "source": [
    "#Function to check if a string is a palindrome\n",
    "def palindrome(s):\n",
    "    if s == s[::-1]:\n",
    "        return True\n",
    "    else:\n",
    "        return False\n",
    "s=input(\"Enter string\")\n",
    "palindrome(s)"
   ]
  },
  {
   "cell_type": "code",
   "execution_count": 59,
   "metadata": {
    "scrolled": true
   },
   "outputs": [
    {
     "name": "stdout",
     "output_type": "stream",
     "text": [
      "Enter year2002\n"
     ]
    },
    {
     "data": {
      "text/plain": [
       "False"
      ]
     },
     "execution_count": 59,
     "metadata": {},
     "output_type": "execute_result"
    }
   ],
   "source": [
    "#Function to check if a given year\n",
    "def isleapyear(year):\n",
    "    if ( year % 400 == 0 or year % 100 != 0 and year % 4 == 0):\n",
    "        return True\n",
    "    else:\n",
    "        return False\n",
    "year=int(input(\"Enter year\"))\n",
    "isleapyear(year)"
   ]
  },
  {
   "cell_type": "code",
   "execution_count": 67,
   "metadata": {},
   "outputs": [
    {
     "data": {
      "text/plain": [
       "234"
      ]
     },
     "execution_count": 67,
     "metadata": {},
     "output_type": "execute_result"
    }
   ],
   "source": [
    "#Function to count the number of digits in a given number\n",
    "\n",
    "def countDigits(n):\n",
    "    return len(str(n))\n",
    "\n",
    "countDigits(13456)\n",
    "\n",
    "\n",
    "#Function to identify the gratest of 4numbers\n",
    "\n",
    "def greatest(n1, n2, n3, n4):\n",
    "    if n1 > n2 and n1 > n3 and n1 > n4:\n",
    "        return n1\n",
    "    elif n2 > n3 and n2 > n4:\n",
    "        return n2\n",
    "    elif n3 > n4:\n",
    "        return n3\n",
    "    return n4\n",
    "greatest(1, 234, 123, 34)\n",
    "\n",
    "\n",
    "\n",
    "\n",
    "\n",
    "\n",
    "\n",
    "    \n",
    "    \n",
    "    "
   ]
  },
  {
   "cell_type": "markdown",
   "metadata": {},
   "source": [
    "### Iteration\n",
    "* for\n",
    "* while"
   ]
  },
  {
   "cell_type": "code",
   "execution_count": 86,
   "metadata": {},
   "outputs": [
    {
     "name": "stdout",
     "output_type": "stream",
     "text": [
      "1 2 3 4 5 6 7 8 9 10 11 12 13 14 15 16 17 18 19 20 21 22 23 24 25 26 27 28 29 30 "
     ]
    }
   ],
   "source": [
    "# Function to print n natural numbers\n",
    "\n",
    "def printNNaturalNumbers(n):\n",
    "    for counter in range(1, n+1):\n",
    "        print(counter, end=\" \")\n",
    "    return\n",
    "printNNaturalNumbers(30)\n",
    "    "
   ]
  },
  {
   "cell_type": "markdown",
   "metadata": {},
   "source": [
    "For Loop in Python\n",
    "\n",
    "[101,210+1]\n",
    "\n",
    "for number in range(101,210+1)\n"
   ]
  },
  {
   "cell_type": "code",
   "execution_count": 101,
   "metadata": {},
   "outputs": [
    {
     "name": "stdout",
     "output_type": "stream",
     "text": [
      "1 2 3 4 5 6 7 8 9 "
     ]
    }
   ],
   "source": [
    "# Function to print N Natural numbers using while \n",
    "\n",
    "def nNaturalNumbers(n):\n",
    "    counter = 1\n",
    "    while counter <= n:\n",
    "        print(counter, end = \" \")\n",
    "        counter = counter + 1\n",
    "    return\n",
    "\n",
    "nNaturalNumbers(9)"
   ]
  },
  {
   "cell_type": "code",
   "execution_count": 10,
   "metadata": {},
   "outputs": [
    {
     "name": "stdout",
     "output_type": "stream",
     "text": [
      "500 501 502 503 504 505 506 507 508 509 510 511 512 513 514 515 516 517 518 519 520 521 522 523 524 525 "
     ]
    }
   ],
   "source": [
    "# Function to print the alternate values in a range in the same line\n",
    "# [500, 550] ->500 502 504 ......... 550\n",
    "# (500, 550) ->501 503 505 ......... 549\n",
    "# range (500, 550) -> 500 501 502 .... 549\n",
    "# All set based functions in python have start value inclusive and end value exclusive\n",
    "\n",
    "def alternatevalues(lb, ub):\n",
    "    for value in range(lb, ub+1):\n",
    "        print(value, end=\" \")\n",
    "    return \n",
    "alternatevalues(500, 525)\n",
    "        \n",
    "\n",
    "\n",
    "\n"
   ]
  },
  {
   "cell_type": "code",
   "execution_count": 20,
   "metadata": {},
   "outputs": [
    {
     "name": "stdout",
     "output_type": "stream",
     "text": [
      "10 9 8 7 6 5 4 3 2 1 "
     ]
    }
   ],
   "source": [
    "# Function to print reverse of given range in the same\n",
    "\n",
    "def reverse(lb, ub):\n",
    "    for value in range(ub, lb-1, -1):\n",
    "        print(value, end=\" \")\n",
    "    return\n",
    "\n",
    "reverse(1, 10)\n"
   ]
  },
  {
   "cell_type": "code",
   "execution_count": 29,
   "metadata": {},
   "outputs": [
    {
     "name": "stdout",
     "output_type": "stream",
     "text": [
      "enter the lowerbound1\n",
      "enter the upperbound120\n",
      "6 12 18 24 30 36 42 48 54 60 66 72 78 84 90 96 102 108 114 "
     ]
    }
   ],
   "source": [
    "# Function to print all numbers divided by 6\n",
    "\n",
    "def divby6(lb,ub):\n",
    "    for i in range(lb,ub):\n",
    "    \n",
    "      if(i%6 ==0 and i%100!=0):\n",
    "            print(i,end=\" \")\n",
    "    \n",
    "    return\n",
    "lb=int(input(\"enter the lowerbound\"))\n",
    "ub=int(input(\"enter the upperbound\"))\n",
    "divby6(lb,ub)       "
   ]
  },
  {
   "cell_type": "code",
   "execution_count": 37,
   "metadata": {},
   "outputs": [
    {
     "name": "stdout",
     "output_type": "stream",
     "text": [
      "9 7 5 3 "
     ]
    }
   ],
   "source": [
    "# Function to print only the odd numbers in a range\n",
    "\n",
    "def odd(lb, ub):\n",
    "    for i in range(ub, lb, -1):\n",
    "        if(i%2!=0):\n",
    "            print(i, end=\" \")\n",
    "    return\n",
    "\n",
    "odd(1, 10)\n",
    "\n"
   ]
  },
  {
   "cell_type": "code",
   "execution_count": 44,
   "metadata": {},
   "outputs": [
    {
     "data": {
      "text/plain": [
       "15"
      ]
     },
     "execution_count": 44,
     "metadata": {},
     "output_type": "execute_result"
    }
   ],
   "source": [
    "#Function sum of numbers in a range\n",
    "\n",
    "def sum(lb, ub):\n",
    "    sum = 0\n",
    "    for i in range(lb, ub+1):\n",
    "        sum = sum + i\n",
    "    return sum\n",
    "\n",
    "sum(1, 5)\n"
   ]
  },
  {
   "cell_type": "code",
   "execution_count": 48,
   "metadata": {},
   "outputs": [
    {
     "data": {
      "text/plain": [
       "5.5"
      ]
     },
     "execution_count": 48,
     "metadata": {},
     "output_type": "execute_result"
    }
   ],
   "source": [
    "# Function to calculate the averages of a given range\n",
    "# (1, 5) -> 3\n",
    "\n",
    "def averages(lb, ub):\n",
    "    sum = 0\n",
    "    count = 0\n",
    "    for i in range(lb, ub+1):\n",
    "        sum = sum + i \n",
    "        count = count + 1\n",
    "    return sum/count\n",
    "    \n",
    "averages(1, 10)\n",
    "        \n",
    "        \n",
    "    "
   ]
  },
  {
   "cell_type": "code",
   "execution_count": 72,
   "metadata": {},
   "outputs": [
    {
     "name": "stdout",
     "output_type": "stream",
     "text": [
      "s2000\n",
      "y2020\n",
      "2000 2004 2008 2012 2016 2020 "
     ]
    }
   ],
   "source": [
    "# Function to generate all leap years in a given time period\n",
    "# 2000 - 2020 -> 2000 2004 2008 2012 2016 2020\n",
    "\n",
    "def isleapyear(year):\n",
    "    if(year % 400 == 0 or year % 100!= 0 and year % 4 == 0):\n",
    "        return True\n",
    "    else:\n",
    "        return False\n",
    "    \n",
    "#isleapyear(2000, 2020)\n",
    "\n",
    "def generateleapyear(startyear, endyear):\n",
    "    for i in range(startyear, endyear+1):\n",
    "        if isleapyear(i):\n",
    "            print(i, end=\" \")\n",
    "startyear=int(input(\"s\"))\n",
    "endyear=int(input(\"y\"))\n",
    "generateleapyear(startyear, endyear)\n",
    "\n",
    "\n",
    "        \n",
    "        "
   ]
  },
  {
   "cell_type": "code",
   "execution_count": 47,
   "metadata": {},
   "outputs": [
    {
     "data": {
      "text/plain": [
       "5000.0"
      ]
     },
     "execution_count": 47,
     "metadata": {},
     "output_type": "execute_result"
    }
   ],
   "source": [
    "#Function to find the average of cubes of all even numbers in a given range(lb, ub) inclusive\n",
    "\n",
    "\n",
    "def avgcubeseven(lb, ub):\n",
    "    sum = 0\n",
    "    for i in range(lb,ub + 1):\n",
    "        if i % 2 == 0:\n",
    "            sum += i ** 3\n",
    "        return sum/(ub-lb)\n",
    "    \n",
    "avgcubeseven(50,75)\n",
    "        \n",
    "    \n",
    "    "
   ]
  },
  {
   "cell_type": "code",
   "execution_count": 51,
   "metadata": {},
   "outputs": [
    {
     "name": "stdout",
     "output_type": "stream",
     "text": [
      "enter n12\n",
      "1 2 3 4 6 "
     ]
    }
   ],
   "source": [
    "\n",
    "# Function to generate the list of factors for a given number \n",
    "#12 -> 1 2 3 4 6 \n",
    "\n",
    "def factors(n):\n",
    "    for i in range (1,n//2+1):\n",
    "        if(n%i==0):\n",
    "             print(i,end=\" \")\n",
    "    return\n",
    "n=int(input(\"enter n\"))\n",
    "factors(n)\n",
    "   \n",
    "    \n"
   ]
  },
  {
   "cell_type": "code",
   "execution_count": 45,
   "metadata": {},
   "outputs": [
    {
     "name": "stdout",
     "output_type": "stream",
     "text": [
      "Enter n5\n",
      "120\n"
     ]
    }
   ],
   "source": [
    "# Function to calculate the factorial of a given number\n",
    "\n",
    "def factorial(n):\n",
    "    fact=1\n",
    "    for i in range(1,n+1):\n",
    "        fact=fact*n\n",
    "        n=n-1\n",
    "        \n",
    "    print(fact)\n",
    "    return\n",
    "n=int(input(\"Enter n\"))\n",
    "factorial(n)\n",
    "\n"
   ]
  },
  {
   "cell_type": "code",
   "execution_count": 1,
   "metadata": {},
   "outputs": [
    {
     "data": {
      "text/plain": [
       "False"
      ]
     },
     "execution_count": 1,
     "metadata": {},
     "output_type": "execute_result"
    }
   ],
   "source": [
    "# Function to check if a given number is prime\n",
    "\n",
    "# Check if given number is a prime or not\n",
    "\n",
    "def isprime(n):\n",
    "    count=0\n",
    "    for i in range(1,n+1):\n",
    "        if n%i==0:\n",
    "            count=count+1\n",
    "    if count==2:\n",
    "        return True\n",
    "    else:\n",
    "        return False\n",
    "isprime(8)\n",
    "        \n",
    "    \n",
    "    \n",
    "   \n",
    "\n"
   ]
  },
  {
   "cell_type": "code",
   "execution_count": 2,
   "metadata": {},
   "outputs": [
    {
     "data": {
      "text/plain": [
       "4.25"
      ]
     },
     "execution_count": 2,
     "metadata": {},
     "output_type": "execute_result"
    }
   ],
   "source": [
    "\n",
    "# Function to calculate the average of first N Prime numbers\n",
    "\n",
    "def avgofprime(n):\n",
    "    sum=0\n",
    "    count=0\n",
    "    for i in range(1,n+1):\n",
    "        x=isprime(i)\n",
    "        if x==1:\n",
    "            sum+=i\n",
    "            count+=1\n",
    "    avg=sum/count\n",
    "    return avg\n",
    "avgofprime(10)\n",
    "\n",
    "        \n",
    "    \n",
    "    \n"
   ]
  },
  {
   "cell_type": "code",
   "execution_count": 3,
   "metadata": {},
   "outputs": [
    {
     "name": "stdout",
     "output_type": "stream",
     "text": [
      "6 28 "
     ]
    }
   ],
   "source": [
    "#Function to generate all perfect numbers in a given range\n",
    "\n",
    "def isperfect(i):\n",
    "    s=0\n",
    "    for j in range(1,i):\n",
    "        if i%j==0:\n",
    "            s=s+j\n",
    "    if s==i:\n",
    "        return True\n",
    "    else:\n",
    "        return False\n",
    "        \n",
    "def allperfect(start,end):\n",
    "    for i in range(start,end+1):\n",
    "        if isperfect(i):\n",
    "            print(i,end=\" \")\n",
    "    return\n",
    "            \n",
    "allperfect(1,30)        \n",
    "    \n",
    "\n",
    "        \n"
   ]
  },
  {
   "cell_type": "code",
   "execution_count": 33,
   "metadata": {},
   "outputs": [
    {
     "name": "stdout",
     "output_type": "stream",
     "text": [
      "Enter n28\n",
      "28\n"
     ]
    }
   ],
   "source": [
    "# Fucntion to generate the all perfect in a given range\n",
    "def Sperfect(n):\n",
    "    sum=0\n",
    "    for i in range(1,n):\n",
    "        if(n%i==0):\n",
    "            sum=sum+i\n",
    "    if(n==sum):\n",
    "        print(sum)\n",
    "n=int(input(\"Enter n\"))\n",
    "Sperfect(n)\n"
   ]
  },
  {
   "cell_type": "code",
   "execution_count": 12,
   "metadata": {},
   "outputs": [
    {
     "name": "stdout",
     "output_type": "stream",
     "text": [
      "2000 2004 2008 2012 2016 2020 "
     ]
    }
   ],
   "source": [
    "# Function to generate all leap years in a given time period\n",
    "#2000-2020 -> 2000 2004 2008 2012 2016\n",
    "\n",
    "def isLeapYear(i):\n",
    "    if (i%400==0 or i%100!=0 and i%4==0):\n",
    "        return True\n",
    "    else:\n",
    "        return False\n",
    "        \n",
    "def leapyear(start,end):\n",
    "    for i in range(start,end+1):\n",
    "        if isLeapYear(i):\n",
    "            print(i,end=\" \")\n",
    "    return \n",
    "leapyear(2000,2020)\n",
    "        "
   ]
  },
  {
   "cell_type": "code",
   "execution_count": 13,
   "metadata": {},
   "outputs": [
    {
     "data": {
      "text/plain": [
       "7671"
      ]
     },
     "execution_count": 13,
     "metadata": {},
     "output_type": "execute_result"
    }
   ],
   "source": [
    "# Calculate number of days in a given timeperiod using leapyear\n",
    "#for every year in the given time period, if the year is leap year\n",
    "\n",
    "def isLeapYear(i):\n",
    "    if (i%400==0 or i%100!=0 and i%4==0):\n",
    "        return True\n",
    "    else:\n",
    "        return False\n",
    "    \n",
    "def leapyear(start,end):\n",
    "    noofdays=0\n",
    "    for i in range(start,end+1):\n",
    "        if isLeapYear(i):\n",
    "            noofdays=noofdays+366\n",
    "        else:\n",
    "            noofdays+=365\n",
    "    return noofdays\n",
    "leapyear(2000,2020)"
   ]
  },
  {
   "cell_type": "code",
   "execution_count": 31,
   "metadata": {},
   "outputs": [
    {
     "data": {
      "text/plain": [
       "1464"
      ]
     },
     "execution_count": 31,
     "metadata": {},
     "output_type": "execute_result"
    }
   ],
   "source": [
    "\n",
    "#numberofhours(5, 2019, 6, 2019)\n",
    "\n",
    "# No of hours = 24* No of days\n",
    "# 3 Steps\n",
    "   #1. Start month of year to end of year - calculate no year\n",
    "   #2. Calculate days fro all years between start year \n",
    "        # 2017, 2018 - 365 * no of years\n",
    "\n",
    "    #3.calculate days from jan to end month year\n",
    "#Excluding Feb\n",
    "#First Six mnths - 1, 3, 4, 5, 6, 7\n",
    "                # All odd mnths have 30days\n",
    "                #All even mnths have 30days\n",
    "#Last six mnths - 8, 9, 10, 11, 12\n",
    "                # All even mnths have 31days\n",
    "                #All odd mnths have 30days\n",
    "# 31days - (mnth <= 7 and month % 2 != 0 and month != 2) // (month)\n",
    "#              return 31\n",
    "#           else\n",
    "#               return 30\n",
    "\n",
    "\n",
    "\n",
    "# Function to calculate number of hours for a given period \n",
    "#numberofhours(11,1975,03,1999)\n",
    "#numberofhours(5,2019,6,2019)->1464\n",
    "\n",
    "\n",
    "def numberOfDaysMonth(month, year):\n",
    "    if month == 2:\n",
    "        if isLeapYear(year):\n",
    "            return 29\n",
    "        return 28\n",
    "    elif (month <= 7 and month % 2!= 0) or (month >= 8 and month % 2 == 0):\n",
    "        return 31\n",
    "    else:\n",
    "        return 30\n",
    "\n",
    "def daysInStartYear(startmonth, startyear):\n",
    "    days = 0 \n",
    "    for month in range(startmonth, 13):\n",
    "        days += numberOfDaysMonth(month, startyear)\n",
    "    return days    \n",
    "\n",
    "def daysInEndYear(endmonth, endyear):\n",
    "    days = 0\n",
    "    for month in range(1, endmonth+1):\n",
    "        days += numberOfDaysMonth(month, endyear)\n",
    "    return days\n",
    "\n",
    "def numberOfHours(startmonth, startyear, endmonth, endyear):\n",
    "    days = 0\n",
    "    if startyear != endyear:\n",
    "        days += daysInStartYear(startmonth, startyear)\n",
    "        days += daysInEndYear(endmonth, endyear)\n",
    "        if endyear - startyear == 2: # 2019 - 2017\n",
    "            days += numberOfDays(startyear+1, startyear+1)\n",
    "        elif endyear - startyear > 2:\n",
    "            days += numberOfDays(startyear+1, endyear-1)\n",
    "    else:\n",
    "        for month in range(startmonth, endmonth+1):\n",
    "            days += numberOfDaysMonth(month, startyear)\n",
    "    return 24 * days\n",
    "\n",
    "numberOfHours(6, 2018, 7, 2018)\n",
    "\n",
    "    \n",
    "        "
   ]
  },
  {
   "cell_type": "markdown",
   "metadata": {},
   "source": [
    "Advanced Problems"
   ]
  },
  {
   "cell_type": "code",
   "execution_count": 1,
   "metadata": {},
   "outputs": [
    {
     "ename": "SyntaxError",
     "evalue": "invalid syntax (<ipython-input-1-2a604477483e>, line 8)",
     "output_type": "error",
     "traceback": [
      "\u001b[1;36m  File \u001b[1;32m\"<ipython-input-1-2a604477483e>\"\u001b[1;36m, line \u001b[1;32m8\u001b[0m\n\u001b[1;33m    if(rem==2)\u001b[0m\n\u001b[1;37m              ^\u001b[0m\n\u001b[1;31mSyntaxError\u001b[0m\u001b[1;31m:\u001b[0m invalid syntax\n"
     ]
    }
   ],
   "source": [
    "#Function to generate armstrong number\n",
    "def armstrong(n):\n",
    "    rem = 0\n",
    "    t=n\n",
    "    while(t>0):\n",
    "        rem=rem+n**3\n",
    "        n=n%10\n",
    "        if(rem==2)\n",
    "        print(rem)\n",
    "\n",
    "        "
   ]
  },
  {
   "cell_type": "code",
   "execution_count": 18,
   "metadata": {},
   "outputs": [
    {
     "data": {
      "text/plain": [
       "3.0"
      ]
     },
     "execution_count": 18,
     "metadata": {},
     "output_type": "execute_result"
    }
   ],
   "source": [
    "# Function to print average of all numbers in a given range\n",
    "#(1,5)-> 3\n",
    "\n",
    "def average(lb,ub):\n",
    "    sum=0\n",
    "    for i in range(lb,ub+1):\n",
    "        sum=sum+i\n",
    "        #count=count+1\n",
    "    return sum/(ub-lb+1)\n",
    "average(1, 5)"
   ]
  },
  {
   "cell_type": "code",
   "execution_count": 16,
   "metadata": {},
   "outputs": [
    {
     "name": "stdout",
     "output_type": "stream",
     "text": [
      "1 2 6 24 "
     ]
    },
    {
     "data": {
      "text/plain": [
       "8.25"
      ]
     },
     "execution_count": 16,
     "metadata": {},
     "output_type": "execute_result"
    }
   ],
   "source": [
    "#Function to calculate average of all factorials in a given range\n",
    "    \n",
    "def avgoffactorials(n):\n",
    "    sum=0\n",
    "    count=0\n",
    "    m=1\n",
    "    for i in range(1,n+1):\n",
    "        m=m*i\n",
    "        print(m,end=\" \")\n",
    "        sum+=m\n",
    "        count+=1\n",
    "    return sum/count\n",
    "avgoffactorials(4)\n",
    "        \n",
    "    \n"
   ]
  },
  {
   "cell_type": "code",
   "execution_count": null,
   "metadata": {},
   "outputs": [
    {
     "name": "stdout",
     "output_type": "stream",
     "text": [
      "enter n10\n",
      "lb100\n"
     ]
    }
   ],
   "source": [
    "#Function to generate Multiplication table for a number in a given range\n",
    "#10 in range(100, 102)inclusive\n",
    "#10*100=1000\n",
    "#10*101=1010\n",
    "#10*102=1020\n",
    "\n",
    "def mul(lb,ub):\n",
    "    for i in range(lb,ub+1):\n",
    "        print(n,'X',i,\"=\",n*i)\n",
    "    return\n",
    "n=int(input(\"enter n\"))\n",
    "lb=int(input(\"lb\"))\n",
    "ub=int(input(\"ub\"))\n",
    "mul(lb,ub)\n",
    "\n",
    "    \n",
    "\n",
    "\n",
    "\n",
    "\n",
    "    \n",
    "        \n",
    "\n",
    "\n"
   ]
  },
  {
   "cell_type": "code",
   "execution_count": null,
   "metadata": {},
   "outputs": [],
   "source": []
  }
 ],
 "metadata": {
  "kernelspec": {
   "display_name": "Python 3",
   "language": "python",
   "name": "python3"
  },
  "language_info": {
   "codemirror_mode": {
    "name": "ipython",
    "version": 3
   },
   "file_extension": ".py",
   "mimetype": "text/x-python",
   "name": "python",
   "nbconvert_exporter": "python",
   "pygments_lexer": "ipython3",
   "version": "3.7.3"
  }
 },
 "nbformat": 4,
 "nbformat_minor": 2
}
